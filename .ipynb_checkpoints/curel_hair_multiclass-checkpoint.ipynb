{
 "cells": [
  {
   "cell_type": "markdown",
   "metadata": {},
   "source": [
    "# Curly hair Anlaysis"
   ]
  },
  {
   "cell_type": "markdown",
   "metadata": {},
   "source": [
    "* StartDate = Start Date\n",
    "* EndDate = End Date\n",
    "* ResponseType = Response type\n",
    "* IPAddress = IP Address\n",
    "* Progress = progress\n",
    "* Duration = Duration(in seconds)\n",
    "* Finished = Finished\n",
    "* RecordedDate = Recorded Date\n",
    "* ResponseID = Response ID\n",
    "* LName = Recipient Last Name\n",
    "* FName = Recipient First Name\n",
    "* Email = Recipient Email\n",
    "* Reference = External Data Reference\n",
    "* Latitude = Location Latitude\n",
    "* Longitude = Location Longitude\n",
    "* Channel = Distribution Channel\n",
    "* Language = User Language\n",
    "* HairLength = How long is your hair?\n",
    "* DryingTime = How long does your hair typically take to dry?\n",
    "* ScalpNumber = When parting your hair, how much of your scalp do you see?\n",
    "* FlakesFrequency = How often do you see white or yellow flakes on your hair?\n",
    "* HairType = What is your hair type? If your hair is a combination of different types, choose the most common of them.\n",
    "* ProductStyling = What form of styling product do you prefer? - Selected Choice\n",
    "* ProductStylingTxt = What form of styling product do you prefer? - None of these, I prefer... - Text\n",
    "* HairProblem = What are your top 5 hair problems? (Select up to 5)\n",
    "* BeardProblems = If you have a beard, what are your top 3 beard problems? (Select up to 3)\n",
    "* ScalpfeelWash = How does your scalp typically feel two or three days after you wash it?\n",
    "* Strand = Take a single strand of your hair and roll it between your fingers with your eyes closed. What best describes your strand?\n",
    "* HairGreyed = How much of your hair has greyed?\n",
    "* HairTreatment = Have you treated your hair with any of these treatments recently or will you soon?\n",
    "* HairDry = How often do you treat your hair with heat or color-treatments like hair dye?\n",
    "* ProductSmell = How do you like your products to smell?\n",
    "* Races = Choose one or more races that you consider yourself to be: - Selected Choice\n",
    "* RaceTxt = Choose one or more races that you consider yourself to be: - Other - Text\n",
    "* AgeRange = What is your age range?\n",
    "* Countries = List of Countries\n",
    "* Sex = To which gender identity do you most identify? - Selected Choice\n",
    "* SexTxt = To which gender identity do you most identify? - Prefer to self-describe - Text\n",
    "* ZipCode = What is your ZIP code?\n",
    "* productsLaunch = Would you like to be one of the first to know when CURLe first products launch? - Selected Choice\n",
    "* productsLaunchTxt = Would you like to be one of the first to know when CURLe first products launch? - Yes, here's my email!\n"
   ]
  },
  {
   "cell_type": "markdown",
   "metadata": {},
   "source": [
    "# Import Package"
   ]
  },
  {
   "cell_type": "code",
   "execution_count": 1,
   "metadata": {},
   "outputs": [],
   "source": [
    "import pandas as pd\n",
    "#import pandas_profiling as pp\n",
    "import numpy as np\n",
    "import seaborn as sns\n",
    "import matplotlib.pyplot as plt\n",
    "import warnings\n",
    "warnings.simplefilter(action='ignore', category=all)\n",
    "warnings.filterwarnings('ignore')\n",
    "\n",
    "import plotly as py\n",
    "import cufflinks as cf\n",
    "import seaborn as sns\n",
    "from plotly.offline import iplot\n",
    "import matplotlib.pyplot as plt\n",
    "from matplotlib import style\n",
    "%matplotlib inline\n",
    "\n",
    "from sklearn.preprocessing import StandardScaler, OneHotEncoder\n",
    "from sklearn.model_selection import train_test_split, KFold, cross_val_score, GridSearchCV, StratifiedShuffleSplit\n",
    "from sklearn.tree import DecisionTreeClassifier\n",
    "from sklearn.neighbors import KNeighborsClassifier\n",
    "from xgboost import XGBClassifier\n",
    "from sklearn.metrics import accuracy_score\n",
    "from sklearn.metrics import confusion_matrix, classification_report, accuracy_score\n"
   ]
  },
  {
   "cell_type": "code",
   "execution_count": null,
   "metadata": {},
   "outputs": [],
   "source": []
  },
  {
   "cell_type": "code",
   "execution_count": 2,
   "metadata": {},
   "outputs": [
    {
     "data": {
      "text/html": [
       "<div>\n",
       "<style scoped>\n",
       "    .dataframe tbody tr th:only-of-type {\n",
       "        vertical-align: middle;\n",
       "    }\n",
       "\n",
       "    .dataframe tbody tr th {\n",
       "        vertical-align: top;\n",
       "    }\n",
       "\n",
       "    .dataframe thead th {\n",
       "        text-align: right;\n",
       "    }\n",
       "</style>\n",
       "<table border=\"1\" class=\"dataframe\">\n",
       "  <thead>\n",
       "    <tr style=\"text-align: right;\">\n",
       "      <th></th>\n",
       "      <th>StartDate</th>\n",
       "      <th>EndDate</th>\n",
       "      <th>ResponseType</th>\n",
       "      <th>IPAddress</th>\n",
       "      <th>Progress</th>\n",
       "      <th>Duration</th>\n",
       "      <th>Finished</th>\n",
       "      <th>RecordedDate</th>\n",
       "      <th>ResponseID</th>\n",
       "      <th>Latitude</th>\n",
       "      <th>...</th>\n",
       "      <th>HairTreatmentChemeical</th>\n",
       "      <th>HairTreatment</th>\n",
       "      <th>ProductSmell</th>\n",
       "      <th>Races</th>\n",
       "      <th>AgeRange</th>\n",
       "      <th>Countries</th>\n",
       "      <th>Sex</th>\n",
       "      <th>ZipCode</th>\n",
       "      <th>Porosity</th>\n",
       "      <th>target</th>\n",
       "    </tr>\n",
       "  </thead>\n",
       "  <tbody>\n",
       "    <tr>\n",
       "      <th>0</th>\n",
       "      <td>10/13/2020 10:12</td>\n",
       "      <td>10/13/2020 10:15</td>\n",
       "      <td>IP Address</td>\n",
       "      <td>172.58.109.119</td>\n",
       "      <td>100</td>\n",
       "      <td>201</td>\n",
       "      <td>True</td>\n",
       "      <td>10/13/2020 10:15</td>\n",
       "      <td>R_10YjaPAZ1Z7gC3M</td>\n",
       "      <td>32.731903</td>\n",
       "      <td>...</td>\n",
       "      <td>NaN</td>\n",
       "      <td>Rarely</td>\n",
       "      <td>Fruity</td>\n",
       "      <td>Arab or Middle Eastern</td>\n",
       "      <td>18-24</td>\n",
       "      <td>Palestine</td>\n",
       "      <td>Female</td>\n",
       "      <td>75061.0</td>\n",
       "      <td>Medium</td>\n",
       "      <td>curly_Medium</td>\n",
       "    </tr>\n",
       "    <tr>\n",
       "      <th>1</th>\n",
       "      <td>10/13/2020 10:13</td>\n",
       "      <td>10/13/2020 10:16</td>\n",
       "      <td>IP Address</td>\n",
       "      <td>172.58.111.163</td>\n",
       "      <td>100</td>\n",
       "      <td>199</td>\n",
       "      <td>True</td>\n",
       "      <td>10/13/2020 10:16</td>\n",
       "      <td>R_2amN5coLhXx6MxE</td>\n",
       "      <td>32.896393</td>\n",
       "      <td>...</td>\n",
       "      <td>Chemical Straightening (Relaxer)</td>\n",
       "      <td>Once or twice a year</td>\n",
       "      <td>Floral</td>\n",
       "      <td>Arab or Middle Eastern</td>\n",
       "      <td>18-24</td>\n",
       "      <td>Egypt</td>\n",
       "      <td>Female</td>\n",
       "      <td>75063.0</td>\n",
       "      <td>Low</td>\n",
       "      <td>wavy_Low</td>\n",
       "    </tr>\n",
       "    <tr>\n",
       "      <th>2</th>\n",
       "      <td>10/13/2020 10:20</td>\n",
       "      <td>10/13/2020 10:28</td>\n",
       "      <td>IP Address</td>\n",
       "      <td>68.249.0.5</td>\n",
       "      <td>100</td>\n",
       "      <td>450</td>\n",
       "      <td>True</td>\n",
       "      <td>10/13/2020 10:28</td>\n",
       "      <td>R_3jUkyPmhmLOjIwn</td>\n",
       "      <td>32.925995</td>\n",
       "      <td>...</td>\n",
       "      <td>NaN</td>\n",
       "      <td>Every few months</td>\n",
       "      <td>Floral</td>\n",
       "      <td>Arab or Middle Eastern</td>\n",
       "      <td>18-24</td>\n",
       "      <td>Egypt</td>\n",
       "      <td>Female</td>\n",
       "      <td>75063.0</td>\n",
       "      <td>Medium</td>\n",
       "      <td>curly_Medium</td>\n",
       "    </tr>\n",
       "    <tr>\n",
       "      <th>3</th>\n",
       "      <td>10/13/2020 11:57</td>\n",
       "      <td>10/13/2020 12:00</td>\n",
       "      <td>IP Address</td>\n",
       "      <td>172.56.6.149</td>\n",
       "      <td>100</td>\n",
       "      <td>218</td>\n",
       "      <td>True</td>\n",
       "      <td>10/13/2020 12:00</td>\n",
       "      <td>R_2q30HZ10txXKRLJ</td>\n",
       "      <td>30.429306</td>\n",
       "      <td>...</td>\n",
       "      <td>Keratin Treatment</td>\n",
       "      <td>Monthly</td>\n",
       "      <td>Fruity</td>\n",
       "      <td>Arab or Middle Eastern</td>\n",
       "      <td>18-24</td>\n",
       "      <td>Jordan</td>\n",
       "      <td>Female</td>\n",
       "      <td>76137.0</td>\n",
       "      <td>Medium</td>\n",
       "      <td>curly_Medium</td>\n",
       "    </tr>\n",
       "    <tr>\n",
       "      <th>4</th>\n",
       "      <td>10/18/2020 9:50</td>\n",
       "      <td>10/18/2020 9:53</td>\n",
       "      <td>IP Address</td>\n",
       "      <td>47.187.113.212</td>\n",
       "      <td>100</td>\n",
       "      <td>156</td>\n",
       "      <td>True</td>\n",
       "      <td>10/18/2020 9:53</td>\n",
       "      <td>R_23gciUOg3y0bRVi</td>\n",
       "      <td>32.960999</td>\n",
       "      <td>...</td>\n",
       "      <td>NaN</td>\n",
       "      <td>Rarely</td>\n",
       "      <td>Fruity</td>\n",
       "      <td>Arab or Middle Eastern</td>\n",
       "      <td>18-24</td>\n",
       "      <td>Egypt</td>\n",
       "      <td>Female</td>\n",
       "      <td>75019.0</td>\n",
       "      <td>Medium</td>\n",
       "      <td>curly_Medium</td>\n",
       "    </tr>\n",
       "  </tbody>\n",
       "</table>\n",
       "<p>5 rows × 32 columns</p>\n",
       "</div>"
      ],
      "text/plain": [
       "          StartDate           EndDate ResponseType       IPAddress  Progress  \\\n",
       "0  10/13/2020 10:12  10/13/2020 10:15   IP Address  172.58.109.119       100   \n",
       "1  10/13/2020 10:13  10/13/2020 10:16   IP Address  172.58.111.163       100   \n",
       "2  10/13/2020 10:20  10/13/2020 10:28   IP Address      68.249.0.5       100   \n",
       "3  10/13/2020 11:57  10/13/2020 12:00   IP Address    172.56.6.149       100   \n",
       "4   10/18/2020 9:50   10/18/2020 9:53   IP Address  47.187.113.212       100   \n",
       "\n",
       "   Duration  Finished      RecordedDate         ResponseID   Latitude  ...  \\\n",
       "0       201      True  10/13/2020 10:15  R_10YjaPAZ1Z7gC3M  32.731903  ...   \n",
       "1       199      True  10/13/2020 10:16  R_2amN5coLhXx6MxE  32.896393  ...   \n",
       "2       450      True  10/13/2020 10:28  R_3jUkyPmhmLOjIwn  32.925995  ...   \n",
       "3       218      True  10/13/2020 12:00  R_2q30HZ10txXKRLJ  30.429306  ...   \n",
       "4       156      True   10/18/2020 9:53  R_23gciUOg3y0bRVi  32.960999  ...   \n",
       "\n",
       "             HairTreatmentChemeical         HairTreatment ProductSmell  \\\n",
       "0                               NaN                Rarely       Fruity   \n",
       "1  Chemical Straightening (Relaxer)  Once or twice a year       Floral   \n",
       "2                               NaN      Every few months       Floral   \n",
       "3                 Keratin Treatment               Monthly       Fruity   \n",
       "4                               NaN                Rarely       Fruity   \n",
       "\n",
       "                    Races AgeRange  Countries     Sex  ZipCode Porosity  \\\n",
       "0  Arab or Middle Eastern    18-24  Palestine  Female  75061.0   Medium   \n",
       "1  Arab or Middle Eastern    18-24      Egypt  Female  75063.0      Low   \n",
       "2  Arab or Middle Eastern    18-24      Egypt  Female  75063.0   Medium   \n",
       "3  Arab or Middle Eastern    18-24     Jordan  Female  76137.0   Medium   \n",
       "4  Arab or Middle Eastern    18-24      Egypt  Female  75019.0   Medium   \n",
       "\n",
       "         target  \n",
       "0  curly_Medium  \n",
       "1      wavy_Low  \n",
       "2  curly_Medium  \n",
       "3  curly_Medium  \n",
       "4  curly_Medium  \n",
       "\n",
       "[5 rows x 32 columns]"
      ]
     },
     "execution_count": 2,
     "metadata": {},
     "output_type": "execute_result"
    }
   ],
   "source": [
    "df = pd.read_csv(\"curly.csv\") \n",
    "df.head()"
   ]
  },
  {
   "cell_type": "code",
   "execution_count": null,
   "metadata": {},
   "outputs": [],
   "source": []
  },
  {
   "cell_type": "markdown",
   "metadata": {},
   "source": [
    "# Data Preparation/Data Cleaning\n"
   ]
  },
  {
   "cell_type": "markdown",
   "metadata": {},
   "source": [
    "## 1.  Remove unimportant Attributes and Duplicate values"
   ]
  },
  {
   "cell_type": "code",
   "execution_count": 3,
   "metadata": {},
   "outputs": [],
   "source": [
    "# let's clean the dataset a little before moving on\n",
    "#  Remove attributes that just arent useful for us\n",
    "for col in ['StartDate', 'EndDate', 'ResponseType', 'IPAddress', 'Progress', 'Finished',\n",
    "            'RecordedDate', 'ResponseID', 'Channel', 'Language', 'ScalpNumber', 'ProductStyling', \n",
    "            'HairProblem', 'HairGreyed', 'Races', 'Countries' ]:\n",
    "    if col in df:\n",
    "        del df[col]"
   ]
  },
  {
   "cell_type": "code",
   "execution_count": 4,
   "metadata": {},
   "outputs": [
    {
     "name": "stdout",
     "output_type": "stream",
     "text": [
      "<class 'pandas.core.frame.DataFrame'>\n",
      "RangeIndex: 215 entries, 0 to 214\n",
      "Data columns (total 18 columns):\n",
      " #   Column                  Non-Null Count  Dtype  \n",
      "---  ------                  --------------  -----  \n",
      " 0   Duration                215 non-null    int64  \n",
      " 1   Latitude                215 non-null    float64\n",
      " 2   Longitude               215 non-null    float64\n",
      " 3   HairLength              193 non-null    object \n",
      " 4   DryingTime              215 non-null    object \n",
      " 5   FlakesFrequency         215 non-null    object \n",
      " 6   HairType                214 non-null    object \n",
      " 7   ScalpfeelWash           215 non-null    object \n",
      " 8   Strand                  214 non-null    object \n",
      " 9   HairGreyed              215 non-null    int64  \n",
      " 10  HairTreatmentChemeical  30 non-null     object \n",
      " 11  HairTreatment           213 non-null    object \n",
      " 12  ProductSmell            214 non-null    object \n",
      " 13  AgeRange                215 non-null    object \n",
      " 14  Sex                     214 non-null    object \n",
      " 15  ZipCode                 187 non-null    float64\n",
      " 16  Porosity                215 non-null    object \n",
      " 17  target                  215 non-null    object \n",
      "dtypes: float64(3), int64(2), object(13)\n",
      "memory usage: 30.4+ KB\n"
     ]
    }
   ],
   "source": [
    "df.drop_duplicates()\n",
    "df.info()"
   ]
  },
  {
   "cell_type": "code",
   "execution_count": null,
   "metadata": {},
   "outputs": [],
   "source": []
  },
  {
   "cell_type": "markdown",
   "metadata": {},
   "source": [
    "## 2 Checking the Missing Values\n",
    "\n",
    "Impact of missing values\n",
    "\n",
    "* Reduces the efficiency of ML model\n",
    "* Affects the overall distribution of data values\n",
    "* It leads to a biased effect in the estimation of the ML model\n",
    "\n",
    "By imputation, we mean to replace the missing or null values with a particular value in the entire dataset.\n",
    "\n",
    "Imputation can be done using any of the below techniques–\n",
    "\n",
    "Impute by mean\n",
    "Impute by median\n",
    "Knn Imputation"
   ]
  },
  {
   "cell_type": "code",
   "execution_count": 5,
   "metadata": {},
   "outputs": [
    {
     "data": {
      "text/html": [
       "<div>\n",
       "<style scoped>\n",
       "    .dataframe tbody tr th:only-of-type {\n",
       "        vertical-align: middle;\n",
       "    }\n",
       "\n",
       "    .dataframe tbody tr th {\n",
       "        vertical-align: top;\n",
       "    }\n",
       "\n",
       "    .dataframe thead th {\n",
       "        text-align: right;\n",
       "    }\n",
       "</style>\n",
       "<table border=\"1\" class=\"dataframe\">\n",
       "  <thead>\n",
       "    <tr style=\"text-align: right;\">\n",
       "      <th></th>\n",
       "      <th>Total</th>\n",
       "      <th>%</th>\n",
       "    </tr>\n",
       "  </thead>\n",
       "  <tbody>\n",
       "    <tr>\n",
       "      <th>HairTreatmentChemeical</th>\n",
       "      <td>185</td>\n",
       "      <td>86.0</td>\n",
       "    </tr>\n",
       "    <tr>\n",
       "      <th>ZipCode</th>\n",
       "      <td>28</td>\n",
       "      <td>13.0</td>\n",
       "    </tr>\n",
       "    <tr>\n",
       "      <th>HairLength</th>\n",
       "      <td>22</td>\n",
       "      <td>10.2</td>\n",
       "    </tr>\n",
       "    <tr>\n",
       "      <th>HairTreatment</th>\n",
       "      <td>2</td>\n",
       "      <td>0.9</td>\n",
       "    </tr>\n",
       "    <tr>\n",
       "      <th>Strand</th>\n",
       "      <td>1</td>\n",
       "      <td>0.5</td>\n",
       "    </tr>\n",
       "    <tr>\n",
       "      <th>Sex</th>\n",
       "      <td>1</td>\n",
       "      <td>0.5</td>\n",
       "    </tr>\n",
       "    <tr>\n",
       "      <th>ProductSmell</th>\n",
       "      <td>1</td>\n",
       "      <td>0.5</td>\n",
       "    </tr>\n",
       "    <tr>\n",
       "      <th>HairType</th>\n",
       "      <td>1</td>\n",
       "      <td>0.5</td>\n",
       "    </tr>\n",
       "    <tr>\n",
       "      <th>FlakesFrequency</th>\n",
       "      <td>0</td>\n",
       "      <td>0.0</td>\n",
       "    </tr>\n",
       "    <tr>\n",
       "      <th>Latitude</th>\n",
       "      <td>0</td>\n",
       "      <td>0.0</td>\n",
       "    </tr>\n",
       "    <tr>\n",
       "      <th>Longitude</th>\n",
       "      <td>0</td>\n",
       "      <td>0.0</td>\n",
       "    </tr>\n",
       "    <tr>\n",
       "      <th>DryingTime</th>\n",
       "      <td>0</td>\n",
       "      <td>0.0</td>\n",
       "    </tr>\n",
       "    <tr>\n",
       "      <th>target</th>\n",
       "      <td>0</td>\n",
       "      <td>0.0</td>\n",
       "    </tr>\n",
       "    <tr>\n",
       "      <th>ScalpfeelWash</th>\n",
       "      <td>0</td>\n",
       "      <td>0.0</td>\n",
       "    </tr>\n",
       "    <tr>\n",
       "      <th>Porosity</th>\n",
       "      <td>0</td>\n",
       "      <td>0.0</td>\n",
       "    </tr>\n",
       "    <tr>\n",
       "      <th>HairGreyed</th>\n",
       "      <td>0</td>\n",
       "      <td>0.0</td>\n",
       "    </tr>\n",
       "    <tr>\n",
       "      <th>AgeRange</th>\n",
       "      <td>0</td>\n",
       "      <td>0.0</td>\n",
       "    </tr>\n",
       "    <tr>\n",
       "      <th>Duration</th>\n",
       "      <td>0</td>\n",
       "      <td>0.0</td>\n",
       "    </tr>\n",
       "  </tbody>\n",
       "</table>\n",
       "</div>"
      ],
      "text/plain": [
       "                        Total     %\n",
       "HairTreatmentChemeical    185  86.0\n",
       "ZipCode                    28  13.0\n",
       "HairLength                 22  10.2\n",
       "HairTreatment               2   0.9\n",
       "Strand                      1   0.5\n",
       "Sex                         1   0.5\n",
       "ProductSmell                1   0.5\n",
       "HairType                    1   0.5\n",
       "FlakesFrequency             0   0.0\n",
       "Latitude                    0   0.0\n",
       "Longitude                   0   0.0\n",
       "DryingTime                  0   0.0\n",
       "target                      0   0.0\n",
       "ScalpfeelWash               0   0.0\n",
       "Porosity                    0   0.0\n",
       "HairGreyed                  0   0.0\n",
       "AgeRange                    0   0.0\n",
       "Duration                    0   0.0"
      ]
     },
     "execution_count": 5,
     "metadata": {},
     "output_type": "execute_result"
    }
   ],
   "source": [
    "def nan_check(data):\n",
    "    total = data.isnull().sum().sort_values(ascending=False)\n",
    "    percent_1 = data.isnull().sum()/data.isnull().count()*100\n",
    "    percent_2 = (np.round(percent_1, 1)).sort_values(ascending=False)\n",
    "    missing_data = pd.concat([total, percent_2], axis=1, keys=['Total', '%'])\n",
    "    return missing_data\n",
    "\n",
    "nan_check(df)"
   ]
  },
  {
   "cell_type": "markdown",
   "metadata": {},
   "source": [
    "### .*. HairTreatmentChemicals contains 86% missing values and reject this\n"
   ]
  },
  {
   "cell_type": "code",
   "execution_count": 6,
   "metadata": {},
   "outputs": [],
   "source": [
    "df = df.drop(['HairTreatmentChemeical'], axis=1)"
   ]
  },
  {
   "cell_type": "markdown",
   "metadata": {},
   "source": [
    "### . *.  Imputed Continous Variables\n",
    "Two ways. using mean and median"
   ]
  },
  {
   "cell_type": "code",
   "execution_count": 7,
   "metadata": {},
   "outputs": [],
   "source": [
    "# Means\n",
    "# missing_col = ['ZipCode']\n",
    "#Technique 1: Using mean to impute the missing values\n",
    "# for i in missing_col:\n",
    "#  df.loc[df.loc[:,i].isnull(),i] = df.loc[:,i].mean()"
   ]
  },
  {
   "cell_type": "code",
   "execution_count": 8,
   "metadata": {},
   "outputs": [
    {
     "name": "stdout",
     "output_type": "stream",
     "text": [
      "count of NULL values after imputation\n",
      "\n"
     ]
    },
    {
     "data": {
      "text/plain": [
       "Duration            0\n",
       "Latitude            0\n",
       "Longitude           0\n",
       "HairLength         22\n",
       "DryingTime          0\n",
       "FlakesFrequency     0\n",
       "HairType            1\n",
       "ScalpfeelWash       0\n",
       "Strand              1\n",
       "HairGreyed          0\n",
       "HairTreatment       2\n",
       "ProductSmell        1\n",
       "AgeRange            0\n",
       "Sex                 1\n",
       "ZipCode             0\n",
       "Porosity            0\n",
       "target              0\n",
       "dtype: int64"
      ]
     },
     "execution_count": 8,
     "metadata": {},
     "output_type": "execute_result"
    }
   ],
   "source": [
    "# Medians\n",
    "missing_col = ['ZipCode']\n",
    " \n",
    "#Technique 2: Using median to impute the missing values\n",
    "for i in missing_col:\n",
    " df.loc[df.loc[:,i].isnull(),i] = df.loc[:,i].median()\n",
    " \n",
    "print(\"count of NULL values after imputation\\n\")\n",
    "df.isnull().sum()"
   ]
  },
  {
   "cell_type": "markdown",
   "metadata": {},
   "source": [
    "### .*.  Imputing Categorical Values\n",
    "\n",
    "Methods\n",
    "\n",
    "* Delete the rows\n",
    "* Replace with the most frequent values\n",
    "* apply classifier algorithm to predict\n",
    "* Apply Unsupervised ML"
   ]
  },
  {
   "cell_type": "markdown",
   "metadata": {},
   "source": [
    "Missed values for our categorical values are:\n",
    "\n",
    "* HairLength = 22\n",
    "* HairType   = 1\n",
    "* HairTreatment = 2\n",
    "* Strand     = 1\n",
    "* ProductSmell = 1\n",
    "* Sex        = 1"
   ]
  },
  {
   "cell_type": "code",
   "execution_count": 9,
   "metadata": {},
   "outputs": [
    {
     "data": {
      "text/plain": [
       "Armpit length                64\n",
       "Mid-back or longer           50\n",
       "Shoulder length              48\n",
       "Above the ear or shoulder    25\n",
       "Chin length                   6\n",
       "Name: HairLength, dtype: int64"
      ]
     },
     "execution_count": 9,
     "metadata": {},
     "output_type": "execute_result"
    }
   ],
   "source": [
    "df['HairLength'].value_counts()"
   ]
  },
  {
   "cell_type": "code",
   "execution_count": 10,
   "metadata": {},
   "outputs": [
    {
     "data": {
      "text/plain": [
       "'Armpit length'"
      ]
     },
     "execution_count": 10,
     "metadata": {},
     "output_type": "execute_result"
    }
   ],
   "source": [
    "df['HairLength'].value_counts().index[0]"
   ]
  },
  {
   "cell_type": "code",
   "execution_count": 11,
   "metadata": {},
   "outputs": [
    {
     "data": {
      "text/plain": [
       "2b    36\n",
       "3b    35\n",
       "2c    34\n",
       "3a    31\n",
       "3c    19\n",
       "4a    17\n",
       "2a    17\n",
       "4c    11\n",
       "4b     8\n",
       "1      6\n",
       "Name: HairType, dtype: int64"
      ]
     },
     "execution_count": 11,
     "metadata": {},
     "output_type": "execute_result"
    }
   ],
   "source": [
    "df['HairType'].value_counts()"
   ]
  },
  {
   "cell_type": "code",
   "execution_count": 12,
   "metadata": {},
   "outputs": [
    {
     "data": {
      "text/plain": [
       "'2b'"
      ]
     },
     "execution_count": 12,
     "metadata": {},
     "output_type": "execute_result"
    }
   ],
   "source": [
    "df['HairType'].value_counts().index[0]"
   ]
  },
  {
   "cell_type": "code",
   "execution_count": 13,
   "metadata": {},
   "outputs": [
    {
     "data": {
      "text/plain": [
       "Rarely                  112\n",
       "Every few months         40\n",
       "Once or twice a year     39\n",
       "Monthly                  16\n",
       "Weekly                    6\n",
       "Name: HairTreatment, dtype: int64"
      ]
     },
     "execution_count": 13,
     "metadata": {},
     "output_type": "execute_result"
    }
   ],
   "source": [
    "df['HairTreatment'].value_counts()"
   ]
  },
  {
   "cell_type": "code",
   "execution_count": 14,
   "metadata": {},
   "outputs": [
    {
     "data": {
      "text/plain": [
       "'Rarely'"
      ]
     },
     "execution_count": 14,
     "metadata": {},
     "output_type": "execute_result"
    }
   ],
   "source": [
    "df['HairTreatment'].value_counts().index[0]"
   ]
  },
  {
   "cell_type": "code",
   "execution_count": 15,
   "metadata": {},
   "outputs": [
    {
     "data": {
      "text/plain": [
       "Thin and bendable.          112\n",
       "Thick and noticeable.        82\n",
       "I can't feel the strand.     20\n",
       "Name: Strand, dtype: int64"
      ]
     },
     "execution_count": 15,
     "metadata": {},
     "output_type": "execute_result"
    }
   ],
   "source": [
    "df['Strand'].value_counts()"
   ]
  },
  {
   "cell_type": "code",
   "execution_count": 16,
   "metadata": {},
   "outputs": [
    {
     "data": {
      "text/plain": [
       "'Thin and bendable.'"
      ]
     },
     "execution_count": 16,
     "metadata": {},
     "output_type": "execute_result"
    }
   ],
   "source": [
    "df['Strand'].value_counts().index[0]"
   ]
  },
  {
   "cell_type": "code",
   "execution_count": 17,
   "metadata": {},
   "outputs": [
    {
     "data": {
      "text/plain": [
       "Female                    188\n",
       "Male                       25\n",
       "Prefer to not describe      1\n",
       "Name: Sex, dtype: int64"
      ]
     },
     "execution_count": 17,
     "metadata": {},
     "output_type": "execute_result"
    }
   ],
   "source": [
    "df['Sex'].value_counts()"
   ]
  },
  {
   "cell_type": "code",
   "execution_count": 18,
   "metadata": {},
   "outputs": [
    {
     "data": {
      "text/plain": [
       "'Female'"
      ]
     },
     "execution_count": 18,
     "metadata": {},
     "output_type": "execute_result"
    }
   ],
   "source": [
    "df['Sex'].value_counts().index[0]"
   ]
  },
  {
   "cell_type": "code",
   "execution_count": 19,
   "metadata": {},
   "outputs": [
    {
     "data": {
      "text/plain": [
       "Fresh        84\n",
       "Floral       54\n",
       "Fruity       41\n",
       "Unscented    19\n",
       "Musk         12\n",
       "Spice         4\n",
       "Name: ProductSmell, dtype: int64"
      ]
     },
     "execution_count": 19,
     "metadata": {},
     "output_type": "execute_result"
    }
   ],
   "source": [
    "df['ProductSmell'].value_counts()"
   ]
  },
  {
   "cell_type": "code",
   "execution_count": 20,
   "metadata": {},
   "outputs": [
    {
     "data": {
      "text/plain": [
       "'Fresh'"
      ]
     },
     "execution_count": 20,
     "metadata": {},
     "output_type": "execute_result"
    }
   ],
   "source": [
    "df['ProductSmell'].value_counts().index[0]"
   ]
  },
  {
   "cell_type": "code",
   "execution_count": 21,
   "metadata": {},
   "outputs": [
    {
     "name": "stdout",
     "output_type": "stream",
     "text": [
      "count of NULL values after imputation\n",
      "\n"
     ]
    },
    {
     "data": {
      "text/plain": [
       "Duration           0\n",
       "Latitude           0\n",
       "Longitude          0\n",
       "HairLength         0\n",
       "DryingTime         0\n",
       "FlakesFrequency    0\n",
       "HairType           0\n",
       "ScalpfeelWash      0\n",
       "Strand             0\n",
       "HairGreyed         0\n",
       "HairTreatment      0\n",
       "ProductSmell       0\n",
       "AgeRange           0\n",
       "Sex                0\n",
       "ZipCode            0\n",
       "Porosity           0\n",
       "target             0\n",
       "dtype: int64"
      ]
     },
     "execution_count": 21,
     "metadata": {},
     "output_type": "execute_result"
    }
   ],
   "source": [
    "df['Sex'].fillna(df['Sex'].value_counts().index[0], inplace = True)\n",
    "df['HairLength'].fillna(df['HairLength'].value_counts().index[0], inplace = True)\n",
    "df['HairType'].fillna(df['HairType'].value_counts().index[0], inplace = True)\n",
    "df['Strand'].fillna(df['Strand'].value_counts().index[0], inplace = True)\n",
    "df['HairTreatment'].fillna(df['HairTreatment'].value_counts().index[0], inplace = True)\n",
    "df['ProductSmell'].fillna(df['ProductSmell'].value_counts().index[0], inplace = True)\n",
    "\n",
    "\n",
    "print(\"count of NULL values after imputation\\n\")\n",
    "df.isnull().sum()"
   ]
  },
  {
   "cell_type": "markdown",
   "metadata": {},
   "source": [
    "## 3.  Outliers\n",
    "Outliers are not important for \n",
    " * categorical variables \n",
    " * for fariables like ID\n",
    "\n",
    "So in our case -- latitude, longitude and zip are Numeric variavbles and we would do the outline on these"
   ]
  },
  {
   "cell_type": "code",
   "execution_count": 22,
   "metadata": {},
   "outputs": [],
   "source": [
    "# select the wanted columns\n",
    "df_quantitative = df[['Duration', 'Latitude', 'Longitude', 'ZipCode']]"
   ]
  },
  {
   "cell_type": "code",
   "execution_count": 23,
   "metadata": {},
   "outputs": [
    {
     "data": {
      "text/html": [
       "<div>\n",
       "<style scoped>\n",
       "    .dataframe tbody tr th:only-of-type {\n",
       "        vertical-align: middle;\n",
       "    }\n",
       "\n",
       "    .dataframe tbody tr th {\n",
       "        vertical-align: top;\n",
       "    }\n",
       "\n",
       "    .dataframe thead th {\n",
       "        text-align: right;\n",
       "    }\n",
       "</style>\n",
       "<table border=\"1\" class=\"dataframe\">\n",
       "  <thead>\n",
       "    <tr style=\"text-align: right;\">\n",
       "      <th></th>\n",
       "      <th>Duration</th>\n",
       "      <th>Latitude</th>\n",
       "      <th>Longitude</th>\n",
       "      <th>ZipCode</th>\n",
       "    </tr>\n",
       "  </thead>\n",
       "  <tbody>\n",
       "    <tr>\n",
       "      <th>count</th>\n",
       "      <td>215.000000</td>\n",
       "      <td>215.000000</td>\n",
       "      <td>215.000000</td>\n",
       "      <td>215.000000</td>\n",
       "    </tr>\n",
       "    <tr>\n",
       "      <th>mean</th>\n",
       "      <td>316.981395</td>\n",
       "      <td>33.303169</td>\n",
       "      <td>-91.424061</td>\n",
       "      <td>70729.525581</td>\n",
       "    </tr>\n",
       "    <tr>\n",
       "      <th>std</th>\n",
       "      <td>579.704025</td>\n",
       "      <td>6.456523</td>\n",
       "      <td>27.436315</td>\n",
       "      <td>16659.135896</td>\n",
       "    </tr>\n",
       "    <tr>\n",
       "      <th>min</th>\n",
       "      <td>112.000000</td>\n",
       "      <td>-37.768402</td>\n",
       "      <td>-156.677200</td>\n",
       "      <td>0.000000</td>\n",
       "    </tr>\n",
       "    <tr>\n",
       "      <th>1%</th>\n",
       "      <td>119.420000</td>\n",
       "      <td>20.988705</td>\n",
       "      <td>-122.582226</td>\n",
       "      <td>8116.640000</td>\n",
       "    </tr>\n",
       "    <tr>\n",
       "      <th>5%</th>\n",
       "      <td>137.700000</td>\n",
       "      <td>29.632043</td>\n",
       "      <td>-110.739304</td>\n",
       "      <td>29522.400000</td>\n",
       "    </tr>\n",
       "    <tr>\n",
       "      <th>25%</th>\n",
       "      <td>184.000000</td>\n",
       "      <td>32.788895</td>\n",
       "      <td>-96.966648</td>\n",
       "      <td>75035.000000</td>\n",
       "    </tr>\n",
       "    <tr>\n",
       "      <th>50%</th>\n",
       "      <td>228.000000</td>\n",
       "      <td>32.864594</td>\n",
       "      <td>-96.788803</td>\n",
       "      <td>75082.000000</td>\n",
       "    </tr>\n",
       "    <tr>\n",
       "      <th>75%</th>\n",
       "      <td>309.000000</td>\n",
       "      <td>33.106400</td>\n",
       "      <td>-96.618347</td>\n",
       "      <td>75240.500000</td>\n",
       "    </tr>\n",
       "    <tr>\n",
       "      <th>95%</th>\n",
       "      <td>482.600000</td>\n",
       "      <td>41.689929</td>\n",
       "      <td>-74.879050</td>\n",
       "      <td>83604.600000</td>\n",
       "    </tr>\n",
       "    <tr>\n",
       "      <th>99%</th>\n",
       "      <td>1514.600000</td>\n",
       "      <td>50.789973</td>\n",
       "      <td>37.923607</td>\n",
       "      <td>96173.280000</td>\n",
       "    </tr>\n",
       "    <tr>\n",
       "      <th>max</th>\n",
       "      <td>8239.000000</td>\n",
       "      <td>51.644897</td>\n",
       "      <td>144.951294</td>\n",
       "      <td>99352.000000</td>\n",
       "    </tr>\n",
       "  </tbody>\n",
       "</table>\n",
       "</div>"
      ],
      "text/plain": [
       "          Duration    Latitude   Longitude       ZipCode\n",
       "count   215.000000  215.000000  215.000000    215.000000\n",
       "mean    316.981395   33.303169  -91.424061  70729.525581\n",
       "std     579.704025    6.456523   27.436315  16659.135896\n",
       "min     112.000000  -37.768402 -156.677200      0.000000\n",
       "1%      119.420000   20.988705 -122.582226   8116.640000\n",
       "5%      137.700000   29.632043 -110.739304  29522.400000\n",
       "25%     184.000000   32.788895  -96.966648  75035.000000\n",
       "50%     228.000000   32.864594  -96.788803  75082.000000\n",
       "75%     309.000000   33.106400  -96.618347  75240.500000\n",
       "95%     482.600000   41.689929  -74.879050  83604.600000\n",
       "99%    1514.600000   50.789973   37.923607  96173.280000\n",
       "max    8239.000000   51.644897  144.951294  99352.000000"
      ]
     },
     "execution_count": 23,
     "metadata": {},
     "output_type": "execute_result"
    }
   ],
   "source": [
    "df_quantitative.describe(percentiles=[.01, .05, .25, .5, .75, .95, .99])"
   ]
  },
  {
   "cell_type": "code",
   "execution_count": null,
   "metadata": {},
   "outputs": [],
   "source": []
  },
  {
   "cell_type": "markdown",
   "metadata": {},
   "source": [
    "## 4. Correlated Variables"
   ]
  },
  {
   "cell_type": "code",
   "execution_count": 24,
   "metadata": {},
   "outputs": [
    {
     "data": {
      "text/html": [
       "<div>\n",
       "<style scoped>\n",
       "    .dataframe tbody tr th:only-of-type {\n",
       "        vertical-align: middle;\n",
       "    }\n",
       "\n",
       "    .dataframe tbody tr th {\n",
       "        vertical-align: top;\n",
       "    }\n",
       "\n",
       "    .dataframe thead th {\n",
       "        text-align: right;\n",
       "    }\n",
       "</style>\n",
       "<table border=\"1\" class=\"dataframe\">\n",
       "  <thead>\n",
       "    <tr style=\"text-align: right;\">\n",
       "      <th></th>\n",
       "      <th>Duration</th>\n",
       "      <th>Latitude</th>\n",
       "      <th>Longitude</th>\n",
       "      <th>HairGreyed</th>\n",
       "      <th>ZipCode</th>\n",
       "    </tr>\n",
       "  </thead>\n",
       "  <tbody>\n",
       "    <tr>\n",
       "      <th>count</th>\n",
       "      <td>215.000000</td>\n",
       "      <td>215.000000</td>\n",
       "      <td>215.000000</td>\n",
       "      <td>215.000000</td>\n",
       "      <td>215.000000</td>\n",
       "    </tr>\n",
       "    <tr>\n",
       "      <th>mean</th>\n",
       "      <td>316.981395</td>\n",
       "      <td>33.303169</td>\n",
       "      <td>-91.424061</td>\n",
       "      <td>0.493023</td>\n",
       "      <td>70729.525581</td>\n",
       "    </tr>\n",
       "    <tr>\n",
       "      <th>std</th>\n",
       "      <td>579.704025</td>\n",
       "      <td>6.456523</td>\n",
       "      <td>27.436315</td>\n",
       "      <td>0.885342</td>\n",
       "      <td>16659.135896</td>\n",
       "    </tr>\n",
       "    <tr>\n",
       "      <th>min</th>\n",
       "      <td>112.000000</td>\n",
       "      <td>-37.768402</td>\n",
       "      <td>-156.677200</td>\n",
       "      <td>0.000000</td>\n",
       "      <td>0.000000</td>\n",
       "    </tr>\n",
       "    <tr>\n",
       "      <th>25%</th>\n",
       "      <td>184.000000</td>\n",
       "      <td>32.788895</td>\n",
       "      <td>-96.966648</td>\n",
       "      <td>0.000000</td>\n",
       "      <td>75035.000000</td>\n",
       "    </tr>\n",
       "    <tr>\n",
       "      <th>50%</th>\n",
       "      <td>228.000000</td>\n",
       "      <td>32.864594</td>\n",
       "      <td>-96.788803</td>\n",
       "      <td>0.000000</td>\n",
       "      <td>75082.000000</td>\n",
       "    </tr>\n",
       "    <tr>\n",
       "      <th>75%</th>\n",
       "      <td>309.000000</td>\n",
       "      <td>33.106400</td>\n",
       "      <td>-96.618347</td>\n",
       "      <td>0.000000</td>\n",
       "      <td>75240.500000</td>\n",
       "    </tr>\n",
       "    <tr>\n",
       "      <th>max</th>\n",
       "      <td>8239.000000</td>\n",
       "      <td>51.644897</td>\n",
       "      <td>144.951294</td>\n",
       "      <td>3.000000</td>\n",
       "      <td>99352.000000</td>\n",
       "    </tr>\n",
       "  </tbody>\n",
       "</table>\n",
       "</div>"
      ],
      "text/plain": [
       "          Duration    Latitude   Longitude  HairGreyed        ZipCode\n",
       "count   215.000000  215.000000  215.000000   215.000000    215.000000\n",
       "mean    316.981395   33.303169  -91.424061     0.493023  70729.525581\n",
       "std     579.704025    6.456523   27.436315     0.885342  16659.135896\n",
       "min     112.000000  -37.768402 -156.677200     0.000000      0.000000\n",
       "25%     184.000000   32.788895  -96.966648     0.000000  75035.000000\n",
       "50%     228.000000   32.864594  -96.788803     0.000000  75082.000000\n",
       "75%     309.000000   33.106400  -96.618347     0.000000  75240.500000\n",
       "max    8239.000000   51.644897  144.951294     3.000000  99352.000000"
      ]
     },
     "execution_count": 24,
     "metadata": {},
     "output_type": "execute_result"
    }
   ],
   "source": [
    "df.describe()"
   ]
  },
  {
   "cell_type": "code",
   "execution_count": 25,
   "metadata": {},
   "outputs": [
    {
     "data": {
      "image/png": "[encoded data removed]",
      "text/plain": [
       "<Figure size 432x288 with 2 Axes>"
      ]
     },
     "metadata": {
      "needs_background": "light"
     },
     "output_type": "display_data"
    }
   ],
   "source": [
    "sns.heatmap(df[['Latitude','Longitude','Duration','ZipCode']].corr(),annot=True)\n",
    "plt.show()"
   ]
  },
  {
   "cell_type": "code",
   "execution_count": null,
   "metadata": {},
   "outputs": [],
   "source": []
  },
  {
   "cell_type": "markdown",
   "metadata": {},
   "source": [
    "# Visualization"
   ]
  },
  {
   "cell_type": "code",
   "execution_count": 26,
   "metadata": {},
   "outputs": [
    {
     "name": "stdout",
     "output_type": "stream",
     "text": [
      "Plot for DURATION: total counts = 215\n"
     ]
    },
    {
     "data": {
      "image/png": "[encoded data removed]",
      "text/plain": [
       "<Figure size 720x360 with 1 Axes>"
      ]
     },
     "metadata": {
      "needs_background": "light"
     },
     "output_type": "display_data"
    },
    {
     "name": "stdout",
     "output_type": "stream",
     "text": [
      "Plot for LONGITUDE: total counts = 215\n"
     ]
    },
    {
     "data": {
      "image/png": "[encoded data removed]",
      "text/plain": [
       "<Figure size 720x360 with 1 Axes>"
      ]
     },
     "metadata": {
      "needs_background": "light"
     },
     "output_type": "display_data"
    },
    {
     "name": "stdout",
     "output_type": "stream",
     "text": [
      "Plot for ZIPCODE: total counts = 215\n"
     ]
    },
    {
     "data": {
      "image/png": "[encoded data removed]",
      "text/plain": [
       "<Figure size 720x360 with 1 Axes>"
      ]
     },
     "metadata": {
      "needs_background": "light"
     },
     "output_type": "display_data"
    },
    {
     "name": "stdout",
     "output_type": "stream",
     "text": [
      "Plot for LATITUDE: total counts = 215\n"
     ]
    },
    {
     "data": {
      "image/png": "[encoded data removed]",
      "text/plain": [
       "<Figure size 720x360 with 1 Axes>"
      ]
     },
     "metadata": {
      "needs_background": "light"
     },
     "output_type": "display_data"
    }
   ],
   "source": [
    "df_explore = df[['Duration','Longitude','ZipCode', 'Latitude']]\n",
    "for cat in df_explore:\n",
    "    cat_num = df_explore[cat]\n",
    "    print(\"Plot for %s: total counts = %d\" % (cat.upper(), len(cat_num)))\n",
    "    f, ax = plt.subplots(figsize=(10,5))\n",
    "    plot = sns.distplot(cat_num)\n",
    "    plot.set_xticklabels(plot.get_xticklabels(), rotation=45)\n",
    "    plt.show()"
   ]
  },
  {
   "cell_type": "markdown",
   "metadata": {},
   "source": [
    "All need to transform"
   ]
  },
  {
   "cell_type": "code",
   "execution_count": 27,
   "metadata": {},
   "outputs": [
    {
     "data": {
      "text/plain": [
       "Text(0.5, 0, 'Porosity and hairtype, fontsize = 14')"
      ]
     },
     "execution_count": 27,
     "metadata": {},
     "output_type": "execute_result"
    },
    {
     "data": {
      "image/png": "[encoded data removed]",
      "text/plain": [
       "<Figure size 1080x360 with 1 Axes>"
      ]
     },
     "metadata": {
      "needs_background": "light"
     },
     "output_type": "display_data"
    }
   ],
   "source": [
    "#plt.figure(figsize=(6,4))\n",
    "age = df.target.value_counts()\n",
    "age.plot.bar(figsize = (15, 5), rot = 80)\n",
    "plt.title('xxx', fontsize = 12)\n",
    "plt.ylabel('Count', fontsize = 12)\n",
    "plt.xlabel('Porosity and hairtype, fontsize = 14')\n"
   ]
  },
  {
   "cell_type": "code",
   "execution_count": 28,
   "metadata": {},
   "outputs": [
    {
     "data": {
      "text/plain": [
       "Text(0.5, 0, 'Age Range, fontsize = 12')"
      ]
     },
     "execution_count": 28,
     "metadata": {},
     "output_type": "execute_result"
    },
    {
     "data": {
      "image/png": "[encoded data removed]",
      "text/plain": [
       "<Figure size 1080x360 with 1 Axes>"
      ]
     },
     "metadata": {
      "needs_background": "light"
     },
     "output_type": "display_data"
    }
   ],
   "source": [
    "#plt.figure(figsize=(6,4))\n",
    "age = df.AgeRange.value_counts()\n",
    "age.plot.bar(figsize = (15, 5), rot = 80)\n",
    "plt.title('xxx', fontsize = 12)\n",
    "plt.ylabel('Count', fontsize = 12)\n",
    "plt.xlabel('Age Range, fontsize = 12')\n"
   ]
  },
  {
   "cell_type": "code",
   "execution_count": 29,
   "metadata": {},
   "outputs": [
    {
     "data": {
      "text/plain": [
       "Text(0.5, 0, 'Sex')"
      ]
     },
     "execution_count": 29,
     "metadata": {},
     "output_type": "execute_result"
    },
    {
     "data": {
      "image/png": "[encoded data removed]",
      "text/plain": [
       "<Figure size 1080x360 with 1 Axes>"
      ]
     },
     "metadata": {
      "needs_background": "light"
     },
     "output_type": "display_data"
    }
   ],
   "source": [
    "#plt.figure(figsize=(6,4))\n",
    "sex = df.Sex.value_counts()\n",
    "sex.plot.bar(figsize = (15, 5), rot = 80)\n",
    "plt.title('xxx', fontsize = 12)\n",
    "plt.ylabel('Count', fontsize = 12)\n",
    "plt.xlabel('Sex', fontsize = 12)\n"
   ]
  },
  {
   "cell_type": "code",
   "execution_count": 30,
   "metadata": {},
   "outputs": [
    {
     "data": {
      "text/plain": [
       "Text(0.5, 0, 'Hair Length group')"
      ]
     },
     "execution_count": 30,
     "metadata": {},
     "output_type": "execute_result"
    },
    {
     "data": {
      "image/png": "[encoded data removed]",
      "text/plain": [
       "<Figure size 1080x360 with 1 Axes>"
      ]
     },
     "metadata": {
      "needs_background": "light"
     },
     "output_type": "display_data"
    }
   ],
   "source": [
    "#plt.figure(figsize=(6,4))\n",
    "Howlonghair = df.HairLength.value_counts()\n",
    "Howlonghair.plot.bar(figsize = (15, 5), rot = 80)\n",
    "plt.title('xxx', fontsize = 12)\n",
    "plt.ylabel('Count', fontsize = 12)\n",
    "plt.xlabel('Hair Length group', fontsize = 12)"
   ]
  },
  {
   "cell_type": "code",
   "execution_count": 31,
   "metadata": {},
   "outputs": [
    {
     "data": {
      "text/plain": [
       "Text(0.5, 0, 'Hair type group')"
      ]
     },
     "execution_count": 31,
     "metadata": {},
     "output_type": "execute_result"
    },
    {
     "data": {
      "image/png": "[encoded data removed]",
      "text/plain": [
       "<Figure size 1080x360 with 1 Axes>"
      ]
     },
     "metadata": {
      "needs_background": "light"
     },
     "output_type": "display_data"
    }
   ],
   "source": [
    "hairtype = df.HairType.value_counts()\n",
    "hairtype.plot.bar(figsize = (15, 5), rot = 80)\n",
    "plt.title('xxx', fontsize = 12)\n",
    "plt.ylabel('Number', fontsize = 12)\n",
    "plt.xlabel('Hair type group', fontsize = 12)"
   ]
  },
  {
   "cell_type": "code",
   "execution_count": 32,
   "metadata": {},
   "outputs": [],
   "source": [
    "# Channel = df.Channel.value_counts()\n",
    "# Channel.plot.bar(figsize = (15, 5), rot = 80)\n",
    "# plt.title('xxx', fontsize = 12)\n",
    "# plt.ylabel('Count', fontsize = 12)\n",
    "# plt.xlabel('Distribution Channel group', fontsize = 12)"
   ]
  },
  {
   "cell_type": "code",
   "execution_count": 33,
   "metadata": {},
   "outputs": [
    {
     "data": {
      "text/plain": [
       "Text(0.5, 0, 'Beneficieries Hair Length')"
      ]
     },
     "execution_count": 33,
     "metadata": {},
     "output_type": "execute_result"
    },
    {
     "data": {
      "image/png": "[encoded data removed]",
      "text/plain": [
       "<Figure size 1080x360 with 1 Axes>"
      ]
     },
     "metadata": {
      "needs_background": "light"
     },
     "output_type": "display_data"
    }
   ],
   "source": [
    "HairLength = df.HairLength.value_counts()\n",
    "HairLength.plot.bar(figsize = (15, 5), rot = 80)\n",
    "plt.title('xxx', fontsize = 12)\n",
    "plt.ylabel('Count', fontsize = 12)\n",
    "plt.xlabel('Beneficieries Hair Length', fontsize = 12)"
   ]
  },
  {
   "cell_type": "code",
   "execution_count": 34,
   "metadata": {},
   "outputs": [
    {
     "data": {
      "text/plain": [
       "Text(0.5, 0, 'Hair Drying time')"
      ]
     },
     "execution_count": 34,
     "metadata": {},
     "output_type": "execute_result"
    },
    {
     "data": {
      "image/png": "[encoded data removed]",
      "text/plain": [
       "<Figure size 1080x360 with 1 Axes>"
      ]
     },
     "metadata": {
      "needs_background": "light"
     },
     "output_type": "display_data"
    }
   ],
   "source": [
    "DryingTime = df.DryingTime.value_counts()\n",
    "DryingTime.plot.bar(figsize = (15, 5), rot = 80)\n",
    "plt.title('xxx', fontsize = 12)\n",
    "plt.ylabel('Count', fontsize = 12)\n",
    "plt.xlabel('Hair Drying time', fontsize = 12)"
   ]
  },
  {
   "cell_type": "code",
   "execution_count": 35,
   "metadata": {},
   "outputs": [
    {
     "data": {
      "text/plain": [
       "Text(0.5, 0, 'The white or yellow flakes frequency')"
      ]
     },
     "execution_count": 35,
     "metadata": {},
     "output_type": "execute_result"
    },
    {
     "data": {
      "image/png": "[encoded data removed]",
      "text/plain": [
       "<Figure size 1080x360 with 1 Axes>"
      ]
     },
     "metadata": {
      "needs_background": "light"
     },
     "output_type": "display_data"
    }
   ],
   "source": [
    "FlakesFrequency = df.FlakesFrequency.value_counts()\n",
    "FlakesFrequency.plot.bar(figsize = (15, 5), rot = 80)\n",
    "plt.title('xxx', fontsize = 12)\n",
    "plt.ylabel('Count', fontsize = 12)\n",
    "plt.xlabel('The white or yellow flakes frequency', fontsize = 12)"
   ]
  },
  {
   "cell_type": "code",
   "execution_count": 36,
   "metadata": {},
   "outputs": [
    {
     "data": {
      "text/plain": [
       "Text(0.5, 0, 'Hair type')"
      ]
     },
     "execution_count": 36,
     "metadata": {},
     "output_type": "execute_result"
    },
    {
     "data": {
      "image/png": "[encoded data removed]",
      "text/plain": [
       "<Figure size 1080x360 with 1 Axes>"
      ]
     },
     "metadata": {
      "needs_background": "light"
     },
     "output_type": "display_data"
    }
   ],
   "source": [
    "HairType = df.HairType.value_counts()\n",
    "HairType.plot.bar(figsize = (15, 5), rot = 80)\n",
    "plt.title('xxx', fontsize = 12)\n",
    "plt.ylabel('Count', fontsize = 12)\n",
    "plt.xlabel('Hair type', fontsize = 12)"
   ]
  },
  {
   "cell_type": "code",
   "execution_count": 37,
   "metadata": {},
   "outputs": [
    {
     "data": {
      "text/plain": [
       "Text(0.5, 0, 'Scalp feel Wash group')"
      ]
     },
     "execution_count": 37,
     "metadata": {},
     "output_type": "execute_result"
    },
    {
     "data": {
      "image/png": "[encoded data removed]",
      "text/plain": [
       "<Figure size 1080x360 with 1 Axes>"
      ]
     },
     "metadata": {
      "needs_background": "light"
     },
     "output_type": "display_data"
    }
   ],
   "source": [
    "ScalpfeelWash = df.ScalpfeelWash.value_counts()\n",
    "ScalpfeelWash.plot.bar(figsize = (15, 5), rot = 80)\n",
    "plt.title('xxx', fontsize = 12)\n",
    "plt.ylabel('Count', fontsize = 12)\n",
    "plt.xlabel('Scalp feel Wash group', fontsize = 12)"
   ]
  },
  {
   "cell_type": "code",
   "execution_count": 38,
   "metadata": {},
   "outputs": [
    {
     "data": {
      "text/plain": [
       "Text(0.5, 0, 'Strand group')"
      ]
     },
     "execution_count": 38,
     "metadata": {},
     "output_type": "execute_result"
    },
    {
     "data": {
      "image/png": "[encoded data removed]",
      "text/plain": [
       "<Figure size 1080x360 with 1 Axes>"
      ]
     },
     "metadata": {
      "needs_background": "light"
     },
     "output_type": "display_data"
    }
   ],
   "source": [
    "Strand = df.Strand.value_counts()\n",
    "Strand.plot.bar(figsize = (15, 5), rot = 80)\n",
    "plt.title('xxx', fontsize = 12)\n",
    "plt.ylabel('Count', fontsize = 12)\n",
    "plt.xlabel('Strand group', fontsize = 12)"
   ]
  },
  {
   "cell_type": "code",
   "execution_count": 39,
   "metadata": {},
   "outputs": [
    {
     "data": {
      "text/plain": [
       "Text(0.5, 0, 'Hair Treatment')"
      ]
     },
     "execution_count": 39,
     "metadata": {},
     "output_type": "execute_result"
    },
    {
     "data": {
      "image/png": "[encoded data removed]",
      "text/plain": [
       "<Figure size 1080x360 with 1 Axes>"
      ]
     },
     "metadata": {
      "needs_background": "light"
     },
     "output_type": "display_data"
    }
   ],
   "source": [
    "HairTreatment = df.HairTreatment.value_counts()\n",
    "HairTreatment.plot.bar(figsize = (15, 5), rot = 80)\n",
    "plt.title('xxx', fontsize = 12)\n",
    "plt.ylabel('Count', fontsize = 12)\n",
    "plt.xlabel('Hair Treatment', fontsize = 12)"
   ]
  },
  {
   "cell_type": "code",
   "execution_count": 40,
   "metadata": {},
   "outputs": [
    {
     "data": {
      "text/plain": [
       "Text(0.5, 0, 'Product Smell group')"
      ]
     },
     "execution_count": 40,
     "metadata": {},
     "output_type": "execute_result"
    },
    {
     "data": {
      "image/png": "[encoded data removed]",
      "text/plain": [
       "<Figure size 1080x360 with 1 Axes>"
      ]
     },
     "metadata": {
      "needs_background": "light"
     },
     "output_type": "display_data"
    }
   ],
   "source": [
    "ProductSmell = df.ProductSmell.value_counts()\n",
    "ProductSmell.plot.bar(figsize = (15, 5), rot = 80)\n",
    "plt.title('xxx', fontsize = 12)\n",
    "plt.ylabel('Count', fontsize = 12)\n",
    "plt.xlabel('Product Smell group', fontsize = 12)"
   ]
  },
  {
   "cell_type": "code",
   "execution_count": 41,
   "metadata": {},
   "outputs": [],
   "source": [
    "# df.info()"
   ]
  },
  {
   "cell_type": "markdown",
   "metadata": {},
   "source": [
    "# Type Conversion"
   ]
  },
  {
   "cell_type": "code",
   "execution_count": 42,
   "metadata": {},
   "outputs": [],
   "source": [
    "# df['target'] = df['target'].map({'curly_High': 0,\n",
    "#                                 'curly_Medium' : 1,\n",
    "#                                 'curly_Low': 2,\n",
    "#                                 'wavy_High': 3,\n",
    "#                                 'wavy_Medium' : 4,\n",
    "#                                 'wavy_Low' : 5, \n",
    "#                                 'coils_High': 6, \n",
    "#                                 'coils_Medium': 7,\n",
    "#                                 'coils_Low': 8, \n",
    "#                                 'Straight_Medium': 9,\n",
    "#                                 'Straight_low ': 10,\n",
    "#                                }).astype(int)\n",
    "\n"
   ]
  },
  {
   "cell_type": "code",
   "execution_count": 43,
   "metadata": {},
   "outputs": [],
   "source": [
    "# df['target'] = df['target'].astype(int, errors='ignore')"
   ]
  },
  {
   "cell_type": "code",
   "execution_count": 44,
   "metadata": {},
   "outputs": [],
   "source": [
    "df['Duration'] = df['Duration'].astype('float64')\n",
    "df['ZipCode'] = df['ZipCode'].astype('float64')\n",
    "df['Latitude'] = df['Latitude'].astype('float64')\n",
    "df['Longitude'] = df['Longitude'].astype('float64')\n",
    "df['HairLength'] = df['HairLength'].astype('category')\n",
    "df['DryingTime'] = df['DryingTime'].astype('category')\n",
    "df['FlakesFrequency'] = df['FlakesFrequency'].astype('category')\n",
    "df['ScalpfeelWash'] = df['ScalpfeelWash'].astype('category')\n",
    "df['Strand'] = df['Strand'].astype('category')\n",
    "df['HairGreyed '] = df['HairGreyed '].astype('category')\n",
    "df['HairTreatment'] = df['HairTreatment'].astype('category')\n",
    "df['ProductSmell'] = df['ProductSmell'].astype('category')\n",
    "df['AgeRange'] = df['AgeRange'].astype('category')\n",
    "df['Sex'] = df['Sex'].astype('category')\n",
    "df['HairType'] = df['HairType'].astype('category')\n",
    "df['Porosity'] = df['Porosity'].astype('category')\n",
    "#df['target'] = df['target'].astype('category')\n"
   ]
  },
  {
   "cell_type": "code",
   "execution_count": 45,
   "metadata": {},
   "outputs": [],
   "source": [
    "# df.info()"
   ]
  },
  {
   "cell_type": "code",
   "execution_count": 46,
   "metadata": {},
   "outputs": [],
   "source": [
    "from sklearn.preprocessing import QuantileTransformer\n",
    "\n",
    "qt = QuantileTransformer(output_distribution='normal')"
   ]
  },
  {
   "cell_type": "code",
   "execution_count": 47,
   "metadata": {},
   "outputs": [],
   "source": [
    "df['Longitude'] = qt.fit_transform(df[['Longitude']].values.reshape(-1,1))\n",
    "df['Latitude'] = qt.fit_transform(df[['Latitude']].values.reshape(-1,1))\n",
    "df['Duration'] = qt.fit_transform(df[['Duration']].values.reshape(-1,1))\n",
    "df['ZipCode'] = qt.fit_transform(df[['ZipCode']].values.reshape(-1,1))"
   ]
  },
  {
   "cell_type": "code",
   "execution_count": 48,
   "metadata": {},
   "outputs": [],
   "source": [
    "#from sklearn.preprocessing import StandardScaler\n",
    "#std_scale =  StandardScaler()"
   ]
  },
  {
   "cell_type": "code",
   "execution_count": 49,
   "metadata": {},
   "outputs": [],
   "source": [
    "#df['Duration'] = std_scale.fit_transform(df[['Duration']])\n",
    "#df['Latitude'] = std_scale.fit_transform(df[['Latitude']])\n",
    "#df['Longitude'] = std_scale.fit_transform(df[['Longitude']])\n",
    "#df['ZipCode'] = std_scale.fit_transform(df[['ZipCode']])"
   ]
  },
  {
   "cell_type": "code",
   "execution_count": 50,
   "metadata": {},
   "outputs": [
    {
     "data": {
      "text/html": [
       "<div>\n",
       "<style scoped>\n",
       "    .dataframe tbody tr th:only-of-type {\n",
       "        vertical-align: middle;\n",
       "    }\n",
       "\n",
       "    .dataframe tbody tr th {\n",
       "        vertical-align: top;\n",
       "    }\n",
       "\n",
       "    .dataframe thead th {\n",
       "        text-align: right;\n",
       "    }\n",
       "</style>\n",
       "<table border=\"1\" class=\"dataframe\">\n",
       "  <thead>\n",
       "    <tr style=\"text-align: right;\">\n",
       "      <th></th>\n",
       "      <th>Duration</th>\n",
       "      <th>Latitude</th>\n",
       "      <th>Longitude</th>\n",
       "      <th>HairLength</th>\n",
       "      <th>DryingTime</th>\n",
       "      <th>FlakesFrequency</th>\n",
       "      <th>HairType</th>\n",
       "      <th>ScalpfeelWash</th>\n",
       "      <th>Strand</th>\n",
       "      <th>HairGreyed</th>\n",
       "      <th>HairTreatment</th>\n",
       "      <th>ProductSmell</th>\n",
       "      <th>AgeRange</th>\n",
       "      <th>Sex</th>\n",
       "      <th>ZipCode</th>\n",
       "      <th>Porosity</th>\n",
       "      <th>target</th>\n",
       "    </tr>\n",
       "  </thead>\n",
       "  <tbody>\n",
       "    <tr>\n",
       "      <th>0</th>\n",
       "      <td>-0.340281</td>\n",
       "      <td>-0.961206</td>\n",
       "      <td>-0.567914</td>\n",
       "      <td>Mid-back or longer</td>\n",
       "      <td>1-2 hours</td>\n",
       "      <td>Sometimes</td>\n",
       "      <td>3a</td>\n",
       "      <td>Combination</td>\n",
       "      <td>Thick and noticeable.</td>\n",
       "      <td>0</td>\n",
       "      <td>Rarely</td>\n",
       "      <td>Fruity</td>\n",
       "      <td>18-24</td>\n",
       "      <td>Female</td>\n",
       "      <td>-0.435015</td>\n",
       "      <td>Medium</td>\n",
       "      <td>curly_Medium</td>\n",
       "    </tr>\n",
       "    <tr>\n",
       "      <th>1</th>\n",
       "      <td>-0.409404</td>\n",
       "      <td>0.099727</td>\n",
       "      <td>-0.415781</td>\n",
       "      <td>Shoulder length</td>\n",
       "      <td>Just a few minutes out of the shower</td>\n",
       "      <td>Rarely</td>\n",
       "      <td>2b</td>\n",
       "      <td>Combination</td>\n",
       "      <td>Thin and bendable.</td>\n",
       "      <td>0</td>\n",
       "      <td>Once or twice a year</td>\n",
       "      <td>Floral</td>\n",
       "      <td>18-24</td>\n",
       "      <td>Female</td>\n",
       "      <td>-0.334082</td>\n",
       "      <td>Low</td>\n",
       "      <td>wavy_Low</td>\n",
       "    </tr>\n",
       "    <tr>\n",
       "      <th>2</th>\n",
       "      <td>1.348275</td>\n",
       "      <td>0.188522</td>\n",
       "      <td>-0.652593</td>\n",
       "      <td>Mid-back or longer</td>\n",
       "      <td>1-2 hours</td>\n",
       "      <td>Weekly</td>\n",
       "      <td>3b</td>\n",
       "      <td>Combination</td>\n",
       "      <td>Thick and noticeable.</td>\n",
       "      <td>0</td>\n",
       "      <td>Every few months</td>\n",
       "      <td>Floral</td>\n",
       "      <td>18-24</td>\n",
       "      <td>Female</td>\n",
       "      <td>-0.334082</td>\n",
       "      <td>Medium</td>\n",
       "      <td>curly_Medium</td>\n",
       "    </tr>\n",
       "    <tr>\n",
       "      <th>3</th>\n",
       "      <td>-0.082085</td>\n",
       "      <td>-1.265736</td>\n",
       "      <td>-1.348275</td>\n",
       "      <td>Armpit length</td>\n",
       "      <td>1-2 hours</td>\n",
       "      <td>Sometimes</td>\n",
       "      <td>3c</td>\n",
       "      <td>Combination</td>\n",
       "      <td>Thin and bendable.</td>\n",
       "      <td>0</td>\n",
       "      <td>Monthly</td>\n",
       "      <td>Fruity</td>\n",
       "      <td>18-24</td>\n",
       "      <td>Female</td>\n",
       "      <td>1.100698</td>\n",
       "      <td>Medium</td>\n",
       "      <td>curly_Medium</td>\n",
       "    </tr>\n",
       "    <tr>\n",
       "      <th>4</th>\n",
       "      <td>-1.362953</td>\n",
       "      <td>0.284926</td>\n",
       "      <td>-0.773456</td>\n",
       "      <td>Mid-back or longer</td>\n",
       "      <td>1-2 hours</td>\n",
       "      <td>Daily</td>\n",
       "      <td>3c</td>\n",
       "      <td>Combination</td>\n",
       "      <td>Thick and noticeable.</td>\n",
       "      <td>0</td>\n",
       "      <td>Rarely</td>\n",
       "      <td>Fruity</td>\n",
       "      <td>18-24</td>\n",
       "      <td>Female</td>\n",
       "      <td>-0.915721</td>\n",
       "      <td>Medium</td>\n",
       "      <td>curly_Medium</td>\n",
       "    </tr>\n",
       "  </tbody>\n",
       "</table>\n",
       "</div>"
      ],
      "text/plain": [
       "   Duration  Latitude  Longitude          HairLength  \\\n",
       "0 -0.340281 -0.961206  -0.567914  Mid-back or longer   \n",
       "1 -0.409404  0.099727  -0.415781     Shoulder length   \n",
       "2  1.348275  0.188522  -0.652593  Mid-back or longer   \n",
       "3 -0.082085 -1.265736  -1.348275       Armpit length   \n",
       "4 -1.362953  0.284926  -0.773456  Mid-back or longer   \n",
       "\n",
       "                             DryingTime FlakesFrequency HairType  \\\n",
       "0                             1-2 hours       Sometimes       3a   \n",
       "1  Just a few minutes out of the shower          Rarely       2b   \n",
       "2                             1-2 hours          Weekly       3b   \n",
       "3                             1-2 hours       Sometimes       3c   \n",
       "4                             1-2 hours           Daily       3c   \n",
       "\n",
       "  ScalpfeelWash                 Strand HairGreyed          HairTreatment  \\\n",
       "0   Combination  Thick and noticeable.           0                Rarely   \n",
       "1   Combination     Thin and bendable.           0  Once or twice a year   \n",
       "2   Combination  Thick and noticeable.           0      Every few months   \n",
       "3   Combination     Thin and bendable.           0               Monthly   \n",
       "4   Combination  Thick and noticeable.           0                Rarely   \n",
       "\n",
       "  ProductSmell AgeRange     Sex   ZipCode Porosity        target  \n",
       "0       Fruity    18-24  Female -0.435015   Medium  curly_Medium  \n",
       "1       Floral    18-24  Female -0.334082      Low      wavy_Low  \n",
       "2       Floral    18-24  Female -0.334082   Medium  curly_Medium  \n",
       "3       Fruity    18-24  Female  1.100698   Medium  curly_Medium  \n",
       "4       Fruity    18-24  Female -0.915721   Medium  curly_Medium  "
      ]
     },
     "execution_count": 50,
     "metadata": {},
     "output_type": "execute_result"
    }
   ],
   "source": [
    "df.head()"
   ]
  },
  {
   "cell_type": "markdown",
   "metadata": {},
   "source": [
    "###  One Hot Encoding with Pandas"
   ]
  },
  {
   "cell_type": "code",
   "execution_count": 51,
   "metadata": {},
   "outputs": [],
   "source": [
    "df_dummies = pd.get_dummies(df[['HairLength', 'DryingTime', 'FlakesFrequency', 'HairTreatment',\n",
    "                                'HairType', 'ScalpfeelWash', 'Strand', 'ProductSmell', 'AgeRange', 'Sex', 'Porosity',]])"
   ]
  },
  {
   "cell_type": "code",
   "execution_count": 52,
   "metadata": {},
   "outputs": [],
   "source": [
    "df = pd.concat([df[['Duration', 'Latitude', 'Longitude', 'ZipCode', 'target']], df_dummies], axis=1)"
   ]
  },
  {
   "cell_type": "code",
   "execution_count": 53,
   "metadata": {},
   "outputs": [
    {
     "data": {
      "text/html": [
       "<div>\n",
       "<style scoped>\n",
       "    .dataframe tbody tr th:only-of-type {\n",
       "        vertical-align: middle;\n",
       "    }\n",
       "\n",
       "    .dataframe tbody tr th {\n",
       "        vertical-align: top;\n",
       "    }\n",
       "\n",
       "    .dataframe thead th {\n",
       "        text-align: right;\n",
       "    }\n",
       "</style>\n",
       "<table border=\"1\" class=\"dataframe\">\n",
       "  <thead>\n",
       "    <tr style=\"text-align: right;\">\n",
       "      <th></th>\n",
       "      <th>Duration</th>\n",
       "      <th>Latitude</th>\n",
       "      <th>Longitude</th>\n",
       "      <th>ZipCode</th>\n",
       "      <th>target</th>\n",
       "      <th>HairLength_Above the ear or shoulder</th>\n",
       "      <th>HairLength_Armpit length</th>\n",
       "      <th>HairLength_Chin length</th>\n",
       "      <th>HairLength_Mid-back or longer</th>\n",
       "      <th>HairLength_Shoulder length</th>\n",
       "      <th>...</th>\n",
       "      <th>AgeRange_35-44</th>\n",
       "      <th>AgeRange_45-54</th>\n",
       "      <th>AgeRange_55-64</th>\n",
       "      <th>AgeRange_Under 10</th>\n",
       "      <th>Sex_Female</th>\n",
       "      <th>Sex_Male</th>\n",
       "      <th>Sex_Prefer to not describe</th>\n",
       "      <th>Porosity_High</th>\n",
       "      <th>Porosity_Low</th>\n",
       "      <th>Porosity_Medium</th>\n",
       "    </tr>\n",
       "  </thead>\n",
       "  <tbody>\n",
       "    <tr>\n",
       "      <th>0</th>\n",
       "      <td>-0.340281</td>\n",
       "      <td>-0.961206</td>\n",
       "      <td>-0.567914</td>\n",
       "      <td>-0.435015</td>\n",
       "      <td>curly_Medium</td>\n",
       "      <td>0</td>\n",
       "      <td>0</td>\n",
       "      <td>0</td>\n",
       "      <td>1</td>\n",
       "      <td>0</td>\n",
       "      <td>...</td>\n",
       "      <td>0</td>\n",
       "      <td>0</td>\n",
       "      <td>0</td>\n",
       "      <td>0</td>\n",
       "      <td>1</td>\n",
       "      <td>0</td>\n",
       "      <td>0</td>\n",
       "      <td>0</td>\n",
       "      <td>0</td>\n",
       "      <td>1</td>\n",
       "    </tr>\n",
       "    <tr>\n",
       "      <th>1</th>\n",
       "      <td>-0.409404</td>\n",
       "      <td>0.099727</td>\n",
       "      <td>-0.415781</td>\n",
       "      <td>-0.334082</td>\n",
       "      <td>wavy_Low</td>\n",
       "      <td>0</td>\n",
       "      <td>0</td>\n",
       "      <td>0</td>\n",
       "      <td>0</td>\n",
       "      <td>1</td>\n",
       "      <td>...</td>\n",
       "      <td>0</td>\n",
       "      <td>0</td>\n",
       "      <td>0</td>\n",
       "      <td>0</td>\n",
       "      <td>1</td>\n",
       "      <td>0</td>\n",
       "      <td>0</td>\n",
       "      <td>0</td>\n",
       "      <td>1</td>\n",
       "      <td>0</td>\n",
       "    </tr>\n",
       "    <tr>\n",
       "      <th>2</th>\n",
       "      <td>1.348275</td>\n",
       "      <td>0.188522</td>\n",
       "      <td>-0.652593</td>\n",
       "      <td>-0.334082</td>\n",
       "      <td>curly_Medium</td>\n",
       "      <td>0</td>\n",
       "      <td>0</td>\n",
       "      <td>0</td>\n",
       "      <td>1</td>\n",
       "      <td>0</td>\n",
       "      <td>...</td>\n",
       "      <td>0</td>\n",
       "      <td>0</td>\n",
       "      <td>0</td>\n",
       "      <td>0</td>\n",
       "      <td>1</td>\n",
       "      <td>0</td>\n",
       "      <td>0</td>\n",
       "      <td>0</td>\n",
       "      <td>0</td>\n",
       "      <td>1</td>\n",
       "    </tr>\n",
       "    <tr>\n",
       "      <th>3</th>\n",
       "      <td>-0.082085</td>\n",
       "      <td>-1.265736</td>\n",
       "      <td>-1.348275</td>\n",
       "      <td>1.100698</td>\n",
       "      <td>curly_Medium</td>\n",
       "      <td>0</td>\n",
       "      <td>1</td>\n",
       "      <td>0</td>\n",
       "      <td>0</td>\n",
       "      <td>0</td>\n",
       "      <td>...</td>\n",
       "      <td>0</td>\n",
       "      <td>0</td>\n",
       "      <td>0</td>\n",
       "      <td>0</td>\n",
       "      <td>1</td>\n",
       "      <td>0</td>\n",
       "      <td>0</td>\n",
       "      <td>0</td>\n",
       "      <td>0</td>\n",
       "      <td>1</td>\n",
       "    </tr>\n",
       "    <tr>\n",
       "      <th>4</th>\n",
       "      <td>-1.362953</td>\n",
       "      <td>0.284926</td>\n",
       "      <td>-0.773456</td>\n",
       "      <td>-0.915721</td>\n",
       "      <td>curly_Medium</td>\n",
       "      <td>0</td>\n",
       "      <td>0</td>\n",
       "      <td>0</td>\n",
       "      <td>1</td>\n",
       "      <td>0</td>\n",
       "      <td>...</td>\n",
       "      <td>0</td>\n",
       "      <td>0</td>\n",
       "      <td>0</td>\n",
       "      <td>0</td>\n",
       "      <td>1</td>\n",
       "      <td>0</td>\n",
       "      <td>0</td>\n",
       "      <td>0</td>\n",
       "      <td>0</td>\n",
       "      <td>1</td>\n",
       "    </tr>\n",
       "  </tbody>\n",
       "</table>\n",
       "<p>5 rows × 57 columns</p>\n",
       "</div>"
      ],
      "text/plain": [
       "   Duration  Latitude  Longitude   ZipCode        target  \\\n",
       "0 -0.340281 -0.961206  -0.567914 -0.435015  curly_Medium   \n",
       "1 -0.409404  0.099727  -0.415781 -0.334082      wavy_Low   \n",
       "2  1.348275  0.188522  -0.652593 -0.334082  curly_Medium   \n",
       "3 -0.082085 -1.265736  -1.348275  1.100698  curly_Medium   \n",
       "4 -1.362953  0.284926  -0.773456 -0.915721  curly_Medium   \n",
       "\n",
       "   HairLength_Above the ear or shoulder  HairLength_Armpit length  \\\n",
       "0                                     0                         0   \n",
       "1                                     0                         0   \n",
       "2                                     0                         0   \n",
       "3                                     0                         1   \n",
       "4                                     0                         0   \n",
       "\n",
       "   HairLength_Chin length  HairLength_Mid-back or longer  \\\n",
       "0                       0                              1   \n",
       "1                       0                              0   \n",
       "2                       0                              1   \n",
       "3                       0                              0   \n",
       "4                       0                              1   \n",
       "\n",
       "   HairLength_Shoulder length  ...  AgeRange_35-44  AgeRange_45-54  \\\n",
       "0                           0  ...               0               0   \n",
       "1                           1  ...               0               0   \n",
       "2                           0  ...               0               0   \n",
       "3                           0  ...               0               0   \n",
       "4                           0  ...               0               0   \n",
       "\n",
       "   AgeRange_55-64  AgeRange_Under 10  Sex_Female  Sex_Male  \\\n",
       "0               0                  0           1         0   \n",
       "1               0                  0           1         0   \n",
       "2               0                  0           1         0   \n",
       "3               0                  0           1         0   \n",
       "4               0                  0           1         0   \n",
       "\n",
       "   Sex_Prefer to not describe  Porosity_High  Porosity_Low  Porosity_Medium  \n",
       "0                           0              0             0                1  \n",
       "1                           0              0             1                0  \n",
       "2                           0              0             0                1  \n",
       "3                           0              0             0                1  \n",
       "4                           0              0             0                1  \n",
       "\n",
       "[5 rows x 57 columns]"
      ]
     },
     "execution_count": 53,
     "metadata": {},
     "output_type": "execute_result"
    }
   ],
   "source": [
    "df.head()"
   ]
  },
  {
   "cell_type": "code",
   "execution_count": null,
   "metadata": {},
   "outputs": [],
   "source": []
  },
  {
   "cell_type": "markdown",
   "metadata": {},
   "source": [
    "#### After transform"
   ]
  },
  {
   "cell_type": "code",
   "execution_count": 54,
   "metadata": {},
   "outputs": [
    {
     "name": "stdout",
     "output_type": "stream",
     "text": [
      "Plot for LONGITUDE: total counts = 215\n"
     ]
    },
    {
     "data": {
      "image/png": "[encoded data removed]",
      "text/plain": [
       "<Figure size 720x360 with 1 Axes>"
      ]
     },
     "metadata": {},
     "output_type": "display_data"
    },
    {
     "name": "stdout",
     "output_type": "stream",
     "text": [
      "Plot for LATITUDE: total counts = 215\n"
     ]
    },
    {
     "data": {
      "image/png": "[encoded data removed]",
      "text/plain": [
       "<Figure size 720x360 with 1 Axes>"
      ]
     },
     "metadata": {},
     "output_type": "display_data"
    },
    {
     "name": "stdout",
     "output_type": "stream",
     "text": [
      "Plot for DURATION: total counts = 215\n"
     ]
    },
    {
     "data": {
      "image/png": "[encoded data removed]",
      "text/plain": [
       "<Figure size 720x360 with 1 Axes>"
      ]
     },
     "metadata": {},
     "output_type": "display_data"
    },
    {
     "name": "stdout",
     "output_type": "stream",
     "text": [
      "Plot for ZIPCODE: total counts = 215\n"
     ]
    },
    {
     "data": {
      "image/png": "[encoded data removed]",
      "text/plain": [
       "<Figure size 720x360 with 1 Axes>"
      ]
     },
     "metadata": {},
     "output_type": "display_data"
    }
   ],
   "source": [
    "#import seaborn as sns\n",
    "#import matplotlib.pyplot as plt\n",
    "sns.set(style=\"whitegrid\")\n",
    "\n",
    "df_explore = df[['Longitude', 'Latitude', 'Duration', 'ZipCode']]\n",
    "for cat in df_explore:\n",
    "    cat_num = df_explore[cat]\n",
    "    print(\"Plot for %s: total counts = %d\" % (cat.upper(), len(cat_num)))\n",
    "    f, ax = plt.subplots(figsize=(10,5))\n",
    "    plot = sns.distplot(cat_num)\n",
    "    plot.set_xticklabels(plot.get_xticklabels(), rotation=45)\n",
    "    plt.show()"
   ]
  },
  {
   "cell_type": "code",
   "execution_count": null,
   "metadata": {},
   "outputs": [],
   "source": []
  },
  {
   "cell_type": "markdown",
   "metadata": {},
   "source": [
    "# Building Machine Learning"
   ]
  },
  {
   "cell_type": "markdown",
   "metadata": {},
   "source": [
    "# Classification"
   ]
  },
  {
   "cell_type": "markdown",
   "metadata": {},
   "source": []
  },
  {
   "cell_type": "code",
   "execution_count": 55,
   "metadata": {},
   "outputs": [
    {
     "data": {
      "text/plain": [
       "array(['curly_Medium', 'wavy_Low', 'wavy_Medium', 'curly_High',\n",
       "       'curly_Low', 'wavy_High', 'coils_High', 'Straight_Low',\n",
       "       'coils_Medium', 'Straight_Medium', 'coils_Low'], dtype=object)"
      ]
     },
     "execution_count": 55,
     "metadata": {},
     "output_type": "execute_result"
    }
   ],
   "source": [
    "df['target'].unique()"
   ]
  },
  {
   "cell_type": "code",
   "execution_count": 56,
   "metadata": {},
   "outputs": [],
   "source": [
    "X = df.drop(\"target\", axis=1)\n",
    "y = df[\"target\"]"
   ]
  },
  {
   "cell_type": "code",
   "execution_count": 57,
   "metadata": {},
   "outputs": [],
   "source": [
    "X_train, X_test, y_train, y_test = train_test_split(X, y, test_size = 0.3, \n",
    "                                                    random_state = 42, stratify=y) # 70% training and 30% test"
   ]
  },
  {
   "cell_type": "code",
   "execution_count": 58,
   "metadata": {},
   "outputs": [],
   "source": [
    "# Feature Scaling\n",
    "#from sklearn.preprocessing import StandardScaler\n",
    "#sc = StandardScaler()\n",
    "#X_train = sc.fit_transform(X_train)\n",
    "#X_test = sc.transform(X_test)\n"
   ]
  },
  {
   "cell_type": "code",
   "execution_count": 59,
   "metadata": {},
   "outputs": [
    {
     "name": "stdout",
     "output_type": "stream",
     "text": [
      "(150, 56)\n",
      "(65, 56)\n",
      "(150,)\n",
      "(150,)\n"
     ]
    }
   ],
   "source": [
    "print(X_train.shape)\n",
    "print(X_test.shape)\n",
    "print(y_train.shape)\n",
    "print(y_train.shape)"
   ]
  },
  {
   "cell_type": "code",
   "execution_count": 60,
   "metadata": {},
   "outputs": [
    {
     "ename": "NameError",
     "evalue": "name 'sgsdgfds' is not defined",
     "output_type": "error",
     "traceback": [
      "\u001b[1;31m---------------------------------------------------------------------------\u001b[0m",
      "\u001b[1;31mNameError\u001b[0m                                 Traceback (most recent call last)",
      "\u001b[1;32m<ipython-input-60-b7368610d953>\u001b[0m in \u001b[0;36m<module>\u001b[1;34m\u001b[0m\n\u001b[1;32m----> 1\u001b[1;33m \u001b[0msgsdgfds\u001b[0m\u001b[1;33m\u001b[0m\u001b[1;33m\u001b[0m\u001b[0m\n\u001b[0m",
      "\u001b[1;31mNameError\u001b[0m: name 'sgsdgfds' is not defined"
     ]
    }
   ],
   "source": []
  },
  {
   "cell_type": "markdown",
   "metadata": {},
   "source": [
    "#### 1. KNN"
   ]
  },
  {
   "cell_type": "markdown",
   "metadata": {},
   "source": [
    "#### Use knn.score() to see the accuracy"
   ]
  },
  {
   "cell_type": "code",
   "execution_count": 74,
   "metadata": {},
   "outputs": [
    {
     "data": {
      "text/plain": [
       "KNeighborsClassifier(algorithm='auto', leaf_size=30, metric='minkowski',\n",
       "                     metric_params=None, n_jobs=None, n_neighbors=7, p=2,\n",
       "                     weights='uniform')"
      ]
     },
     "execution_count": 74,
     "metadata": {},
     "output_type": "execute_result"
    }
   ],
   "source": [
    "knn_clf = KNeighborsClassifier(n_neighbors = 7 , metric='minkowski' , p=2)\n",
    "knn_clf.fit(X_train,y_train)"
   ]
  },
  {
   "cell_type": "code",
   "execution_count": 75,
   "metadata": {},
   "outputs": [],
   "source": [
    "y_pred = knn_clf.predict(X_test)"
   ]
  },
  {
   "cell_type": "code",
   "execution_count": 76,
   "metadata": {},
   "outputs": [
    {
     "name": "stdout",
     "output_type": "stream",
     "text": [
      "68.0 %\n"
     ]
    }
   ],
   "source": [
    "acc_clf = knn_clf.score(X_train,y_train)\n",
    "print(round(acc_clf*100, 2), \"%\")"
   ]
  },
  {
   "cell_type": "code",
   "execution_count": 77,
   "metadata": {},
   "outputs": [
    {
     "name": "stdout",
     "output_type": "stream",
     "text": [
      "[0.47692307692307695, 0.4, 0.46153846153846156, 0.5076923076923077, 0.49230769230769234, 0.5230769230769231, 0.5230769230769231, 0.5846153846153846, 0.5384615384615384, 0.5230769230769231, 0.5230769230769231, 0.5076923076923077, 0.5230769230769231, 0.49230769230769234, 0.5076923076923077, 0.5076923076923077, 0.5230769230769231, 0.5538461538461539, 0.5230769230769231, 0.5076923076923077, 0.5538461538461539, 0.5076923076923077, 0.5384615384615384, 0.5538461538461539, 0.5076923076923077, 0.5076923076923077, 0.46153846153846156, 0.49230769230769234, 0.49230769230769234, 0.5076923076923077]\n"
     ]
    }
   ],
   "source": [
    "# try K=1 through K=30 and record testing accuracy\n",
    "k_range = range(1, 31)\n",
    "\n",
    "# We can create Python dictionary using [] or dict()\n",
    "scores = []\n",
    "\n",
    "# We use a loop through the range 1 to 26\n",
    "# We append the scores in the dictionary\n",
    "for k in k_range:\n",
    "    knn = KNeighborsClassifier(n_neighbors=k)\n",
    "    knn.fit(X_train, y_train)\n",
    "    y_pred = knn.predict(X_test)\n",
    "    scores.append(accuracy_score(y_test, y_pred))\n",
    "\n",
    "print(scores)"
   ]
  },
  {
   "cell_type": "code",
   "execution_count": null,
   "metadata": {},
   "outputs": [],
   "source": []
  },
  {
   "cell_type": "code",
   "execution_count": 78,
   "metadata": {},
   "outputs": [
    {
     "data": {
      "text/plain": [
       "Text(0, 0.5, 'Testing Accuracy')"
      ]
     },
     "execution_count": 78,
     "metadata": {},
     "output_type": "execute_result"
    },
    {
     "data": {
      "image/png": "[encoded data removed]",
      "text/plain": [
       "<Figure size 432x288 with 1 Axes>"
      ]
     },
     "metadata": {
      "needs_background": "light"
     },
     "output_type": "display_data"
    }
   ],
   "source": [
    "# import Matplotlib (scientific plotting library)\n",
    "import matplotlib.pyplot as plt\n",
    "\n",
    "# allow plots to appear within the notebook\n",
    "%matplotlib inline\n",
    "\n",
    "# plot the relationship between K and testing accuracy\n",
    "# plt.plot(x_axis, y_axis)\n",
    "plt.plot(k_range, scores)\n",
    "plt.xlabel('Value of K for KNN')\n",
    "plt.ylabel('Testing Accuracy')"
   ]
  },
  {
   "cell_type": "code",
   "execution_count": null,
   "metadata": {},
   "outputs": [],
   "source": []
  },
  {
   "cell_type": "markdown",
   "metadata": {},
   "source": [
    "#### Cross -Validation for Classification"
   ]
  },
  {
   "cell_type": "code",
   "execution_count": 79,
   "metadata": {},
   "outputs": [],
   "source": [
    "# import k-folder\n",
    "from sklearn.model_selection import cross_val_score\n",
    "\n",
    "# use the same model as before\n",
    "knn_clf = KNeighborsClassifier(n_neighbors = 3)"
   ]
  },
  {
   "cell_type": "code",
   "execution_count": 80,
   "metadata": {},
   "outputs": [],
   "source": [
    "# X,y will automatically devided by 5 folder, the scoring I will still use the accuracy\n",
    "scores = cross_val_score(knn_clf, X, y, cv=5, scoring='accuracy')"
   ]
  },
  {
   "cell_type": "code",
   "execution_count": 81,
   "metadata": {},
   "outputs": [
    {
     "name": "stdout",
     "output_type": "stream",
     "text": [
      "[0.51162791 0.58139535 0.48837209 0.58139535 0.44186047]\n"
     ]
    }
   ],
   "source": [
    "# print all 5 times scores \n",
    "print(scores)"
   ]
  },
  {
   "cell_type": "code",
   "execution_count": 82,
   "metadata": {},
   "outputs": [
    {
     "name": "stdout",
     "output_type": "stream",
     "text": [
      "0.5209302325581395\n"
     ]
    }
   ],
   "source": [
    "# then I will do the average about these five scores to get more accuracy score.\n",
    "print(scores.mean())"
   ]
  },
  {
   "cell_type": "markdown",
   "metadata": {},
   "source": [
    "# we could choose differenct neighbors to see which K is the best K."
   ]
  },
  {
   "cell_type": "code",
   "execution_count": 83,
   "metadata": {},
   "outputs": [
    {
     "data": {
      "image/png": "[encoded data removed]",
      "text/plain": [
       "<Figure size 432x288 with 1 Axes>"
      ]
     },
     "metadata": {
      "needs_background": "light"
     },
     "output_type": "display_data"
    }
   ],
   "source": [
    "import matplotlib.pyplot as plt \n",
    "%matplotlib inline\n",
    "# choose k between 1 to 31\n",
    "k_range = range(1, 31)\n",
    "k_scores = []\n",
    "# use iteration to caclulator different k in models, then return the average accuracy based on the cross validation\n",
    "for k in k_range:\n",
    "    knn = KNeighborsClassifier(n_neighbors = k)\n",
    "    scores = cross_val_score(knn, X, y, cv=5, scoring='accuracy')\n",
    "    k_scores.append(scores.mean())\n",
    "# plot to see clearly\n",
    "plt.plot(k_range, k_scores)\n",
    "plt.xlabel('Value of K for KNN')\n",
    "plt.ylabel('Cross-Validated Accuracy')\n",
    "plt.show()"
   ]
  },
  {
   "cell_type": "code",
   "execution_count": 84,
   "metadata": {},
   "outputs": [
    {
     "name": "stdout",
     "output_type": "stream",
     "text": [
      "Confusion Matrix:\n",
      "[[ 0  0  0  0  0  0  0  0  0  1  0]\n",
      " [ 0  0  0  0  0  0  0  0  0  0  1]\n",
      " [ 0  0  1  0  0  6  0  0  0  0  0]\n",
      " [ 0  0  0  0  0  0  0  0  0  1  0]\n",
      " [ 0  0  0  0  0  0  0  2  0  0  1]\n",
      " [ 0  0  0  0  0 10  0  0  0  0  0]\n",
      " [ 0  0  0  0  0  0  0  1  0  0  0]\n",
      " [ 0  0  0  0  0  0  0 11  0  0  4]\n",
      " [ 0  0  0  0  0  5  0  0  4  0  0]\n",
      " [ 0  0  0  0  0  0  0  1  0  3  1]\n",
      " [ 0  0  0  0  0  0  0  8  0  0  4]]\n",
      "Classification Report:\n",
      "                 precision    recall  f1-score   support\n",
      "\n",
      "   Straight_Low       0.00      0.00      0.00         1\n",
      "Straight_Medium       0.00      0.00      0.00         1\n",
      "     coils_High       1.00      0.14      0.25         7\n",
      "      coils_Low       0.00      0.00      0.00         1\n",
      "   coils_Medium       0.00      0.00      0.00         3\n",
      "     curly_High       0.48      1.00      0.65        10\n",
      "      curly_Low       0.00      0.00      0.00         1\n",
      "   curly_Medium       0.48      0.73      0.58        15\n",
      "      wavy_High       1.00      0.44      0.62         9\n",
      "       wavy_Low       0.60      0.60      0.60         5\n",
      "    wavy_Medium       0.36      0.33      0.35        12\n",
      "\n",
      "       accuracy                           0.51        65\n",
      "      macro avg       0.36      0.30      0.28        65\n",
      "   weighted avg       0.54      0.51      0.46        65\n",
      "\n",
      "Accuracy: 0.5076923076923077\n"
     ]
    }
   ],
   "source": [
    "result = confusion_matrix(y_test, y_pred)\n",
    "print(\"Confusion Matrix:\")\n",
    "print(result)\n",
    "result1 = classification_report(y_test, y_pred)\n",
    "print(\"Classification Report:\",)\n",
    "print (result1)\n",
    "result2 = accuracy_score(y_test, y_pred)\n",
    "print(\"Accuracy:\", result2)"
   ]
  },
  {
   "cell_type": "code",
   "execution_count": null,
   "metadata": {},
   "outputs": [],
   "source": []
  },
  {
   "cell_type": "markdown",
   "metadata": {},
   "source": [
    "### 2. Random Forest"
   ]
  },
  {
   "cell_type": "code",
   "execution_count": 85,
   "metadata": {},
   "outputs": [],
   "source": [
    "from sklearn.ensemble import RandomForestClassifier\n"
   ]
  },
  {
   "cell_type": "code",
   "execution_count": 87,
   "metadata": {},
   "outputs": [
    {
     "name": "stdout",
     "output_type": "stream",
     "text": [
      "100.0 %\n"
     ]
    }
   ],
   "source": [
    "# Random Forest\n",
    "rf = RandomForestClassifier(n_estimators=100)\n",
    "rf.fit(X_train, y_train)\n",
    "\n",
    "Y_prediction = rf.predict(X_test)\n",
    "\n",
    "# rf.score(X_train, y_train)\n",
    "acc_random_forest = round(rf.score(X_train, y_train) * 100, 2)\n",
    "print(round(acc_random_forest,4,), \"%\")"
   ]
  },
  {
   "cell_type": "markdown",
   "metadata": {},
   "source": [
    "### Feature Importance"
   ]
  },
  {
   "cell_type": "code",
   "execution_count": 92,
   "metadata": {},
   "outputs": [],
   "source": [
    "importances = pd.DataFrame({'feature':X_train.columns,'importance':np.round(rf.feature_importances_, 3)})\n",
    "importances = importances.sort_values('importance',ascending=False).set_index('feature')"
   ]
  },
  {
   "cell_type": "code",
   "execution_count": 93,
   "metadata": {},
   "outputs": [
    {
     "data": {
      "text/html": [
       "<div>\n",
       "<style scoped>\n",
       "    .dataframe tbody tr th:only-of-type {\n",
       "        vertical-align: middle;\n",
       "    }\n",
       "\n",
       "    .dataframe tbody tr th {\n",
       "        vertical-align: top;\n",
       "    }\n",
       "\n",
       "    .dataframe thead th {\n",
       "        text-align: right;\n",
       "    }\n",
       "</style>\n",
       "<table border=\"1\" class=\"dataframe\">\n",
       "  <thead>\n",
       "    <tr style=\"text-align: right;\">\n",
       "      <th></th>\n",
       "      <th>importance</th>\n",
       "    </tr>\n",
       "    <tr>\n",
       "      <th>feature</th>\n",
       "      <th></th>\n",
       "    </tr>\n",
       "  </thead>\n",
       "  <tbody>\n",
       "    <tr>\n",
       "      <th>Porosity_Medium</th>\n",
       "      <td>0.063</td>\n",
       "    </tr>\n",
       "    <tr>\n",
       "      <th>DryingTime_1-2 hours</th>\n",
       "      <td>0.060</td>\n",
       "    </tr>\n",
       "    <tr>\n",
       "      <th>DryingTime_A pretty long time, may be damp the whole day.</th>\n",
       "      <td>0.052</td>\n",
       "    </tr>\n",
       "    <tr>\n",
       "      <th>HairType_2c</th>\n",
       "      <td>0.051</td>\n",
       "    </tr>\n",
       "    <tr>\n",
       "      <th>HairType_4a</th>\n",
       "      <td>0.051</td>\n",
       "    </tr>\n",
       "    <tr>\n",
       "      <th>Duration</th>\n",
       "      <td>0.050</td>\n",
       "    </tr>\n",
       "    <tr>\n",
       "      <th>Porosity_High</th>\n",
       "      <td>0.050</td>\n",
       "    </tr>\n",
       "    <tr>\n",
       "      <th>ZipCode</th>\n",
       "      <td>0.050</td>\n",
       "    </tr>\n",
       "    <tr>\n",
       "      <th>Longitude</th>\n",
       "      <td>0.050</td>\n",
       "    </tr>\n",
       "    <tr>\n",
       "      <th>HairType_2b</th>\n",
       "      <td>0.045</td>\n",
       "    </tr>\n",
       "    <tr>\n",
       "      <th>Latitude</th>\n",
       "      <td>0.045</td>\n",
       "    </tr>\n",
       "    <tr>\n",
       "      <th>HairType_3b</th>\n",
       "      <td>0.036</td>\n",
       "    </tr>\n",
       "    <tr>\n",
       "      <th>HairType_3a</th>\n",
       "      <td>0.032</td>\n",
       "    </tr>\n",
       "    <tr>\n",
       "      <th>Porosity_Low</th>\n",
       "      <td>0.030</td>\n",
       "    </tr>\n",
       "    <tr>\n",
       "      <th>DryingTime_Just a few minutes out of the shower</th>\n",
       "      <td>0.027</td>\n",
       "    </tr>\n",
       "  </tbody>\n",
       "</table>\n",
       "</div>"
      ],
      "text/plain": [
       "                                                    importance\n",
       "feature                                                       \n",
       "Porosity_Medium                                          0.063\n",
       "DryingTime_1-2 hours                                     0.060\n",
       "DryingTime_A pretty long time, may be damp the ...       0.052\n",
       "HairType_2c                                              0.051\n",
       "HairType_4a                                              0.051\n",
       "Duration                                                 0.050\n",
       "Porosity_High                                            0.050\n",
       "ZipCode                                                  0.050\n",
       "Longitude                                                0.050\n",
       "HairType_2b                                              0.045\n",
       "Latitude                                                 0.045\n",
       "HairType_3b                                              0.036\n",
       "HairType_3a                                              0.032\n",
       "Porosity_Low                                             0.030\n",
       "DryingTime_Just a few minutes out of the shower          0.027"
      ]
     },
     "execution_count": 93,
     "metadata": {},
     "output_type": "execute_result"
    }
   ],
   "source": [
    "importances.head(15)"
   ]
  },
  {
   "cell_type": "code",
   "execution_count": 96,
   "metadata": {},
   "outputs": [
    {
     "data": {
      "text/plain": [
       "<matplotlib.axes._subplots.AxesSubplot at 0x1f9fa491848>"
      ]
     },
     "execution_count": 96,
     "metadata": {},
     "output_type": "execute_result"
    },
    {
     "data": {
      "image/png": "[encoded data removed]",
      "text/plain": [
       "<Figure size 432x288 with 1 Axes>"
      ]
     },
     "metadata": {
      "needs_background": "light"
     },
     "output_type": "display_data"
    }
   ],
   "source": [
    "fig \n",
    "importances.plot.bar()"
   ]
  },
  {
   "cell_type": "code",
   "execution_count": null,
   "metadata": {},
   "outputs": [],
   "source": []
  },
  {
   "cell_type": "code",
   "execution_count": null,
   "metadata": {},
   "outputs": [],
   "source": []
  },
  {
   "cell_type": "code",
   "execution_count": null,
   "metadata": {},
   "outputs": [],
   "source": []
  },
  {
   "cell_type": "markdown",
   "metadata": {},
   "source": [
    "### 3. XGBoos Classifier"
   ]
  },
  {
   "cell_type": "code",
   "execution_count": null,
   "metadata": {},
   "outputs": [],
   "source": [
    "from sklearn.preprocessing import MinMaxScaler\n",
    "from xgboost import XGBClassifier"
   ]
  },
  {
   "cell_type": "code",
   "execution_count": null,
   "metadata": {},
   "outputs": [],
   "source": [
    "#DataFlair - Scale the features to between -1 and 1\n",
    "scaler=MinMaxScaler((-1,1))\n",
    "X = scaler.fit_transform(X)\n",
    "y = y"
   ]
  },
  {
   "cell_type": "code",
   "execution_count": null,
   "metadata": {},
   "outputs": [],
   "source": [
    "#DataFlair - Train the model\n",
    "model = XGBClassifier()\n",
    "model.fit(X_train,y_train)"
   ]
  },
  {
   "cell_type": "code",
   "execution_count": null,
   "metadata": {},
   "outputs": [],
   "source": [
    "# DataFlair - Calculate the accuracy\n",
    "y_pred = model.predict(X_test)\n",
    "print(accuracy_score(y_test, y_pred)*100)"
   ]
  },
  {
   "cell_type": "code",
   "execution_count": null,
   "metadata": {},
   "outputs": [],
   "source": []
  },
  {
   "cell_type": "code",
   "execution_count": null,
   "metadata": {},
   "outputs": [],
   "source": []
  },
  {
   "cell_type": "markdown",
   "metadata": {},
   "source": [
    "# Clustering"
   ]
  },
  {
   "cell_type": "markdown",
   "metadata": {},
   "source": [
    "Clustering techniques apply when there is no class to be predicted but rather when the instances are to be divided into natural groups.\n",
    "A cluster is often an area of density in the feature space where examples from the domain (observations or rows of data) are closer to the cluster than other clusters. The cluster may have a center (the centroid) that is a sample or a point feature space and may have a boundary or extent."
   ]
  },
  {
   "cell_type": "code",
   "execution_count": null,
   "metadata": {},
   "outputs": [],
   "source": [
    "data.head()"
   ]
  },
  {
   "cell_type": "code",
   "execution_count": null,
   "metadata": {},
   "outputs": [],
   "source": [
    "from sklearn.preprocessing import LabelEncoder"
   ]
  },
  {
   "cell_type": "code",
   "execution_count": null,
   "metadata": {},
   "outputs": [],
   "source": [
    "encoder = LabelEncoder()\n",
    "encoded_HairLength = encoder.fit_transform(df.iloc[:, 3])\n",
    "encoded_DryingTime = encoder.fit_transform(df.iloc[:, 4])\n",
    "encoded_FlakesFrequency = encoder.fit_transform(df.iloc[:, 5])\n",
    "encoded_HairType = encoder.fit_transform(df.iloc[:, 6])\n",
    "encoded_ScalpfeelWash = encoder.fit_transform(df.iloc[:, 7])\n",
    "encoded_Strand = encoder.fit_transform(df.iloc[:, 8])\n",
    "encoded_HairTreatment = encoder.fit_transform(df.iloc[:, 10])\n",
    "encoded_ProductSmell = encoder.fit_transform(df.iloc[:, 11])\n",
    "encoded_AgeRange = encoder.fit_transform(df.iloc[:, 12])\n",
    "encoded_Sex = encoder.fit_transform(df.iloc[:, 13])\n",
    "encoded_Porosity = encoder.fit_transform(df.iloc[:, 14])"
   ]
  },
  {
   "cell_type": "code",
   "execution_count": null,
   "metadata": {},
   "outputs": [],
   "source": [
    "df = df.drop(['target'], axis=1)"
   ]
  },
  {
   "cell_type": "code",
   "execution_count": null,
   "metadata": {},
   "outputs": [],
   "source": [
    "df.head()"
   ]
  },
  {
   "cell_type": "code",
   "execution_count": null,
   "metadata": {},
   "outputs": [],
   "source": [
    "print(df)"
   ]
  },
  {
   "cell_type": "code",
   "execution_count": null,
   "metadata": {},
   "outputs": [],
   "source": [
    "from sklearn.decomposition import PCA"
   ]
  },
  {
   "cell_type": "code",
   "execution_count": null,
   "metadata": {},
   "outputs": [],
   "source": [
    "curly_pca = PCA(n_components=30)\n",
    "curly_pca.fit(df)\n",
    "test = curly_pca.transform(df)"
   ]
  },
  {
   "cell_type": "code",
   "execution_count": null,
   "metadata": {},
   "outputs": [],
   "source": [
    "plt.plot(list(curly_pca.explained_variance_ratio_),'-o')\n",
    "plt.title('Explained variance ratio as function of PCA components')\n",
    "plt.ylabel('Explained variance ratio')\n",
    "plt.xlabel('Component')\n",
    "plt.show()"
   ]
  },
  {
   "cell_type": "code",
   "execution_count": null,
   "metadata": {},
   "outputs": [],
   "source": [
    "reduction_pca = PCA(n_components=20)\n",
    "reduced_features = reduction_pca.fit_transform(df)"
   ]
  },
  {
   "cell_type": "code",
   "execution_count": null,
   "metadata": {},
   "outputs": [],
   "source": []
  },
  {
   "cell_type": "markdown",
   "metadata": {},
   "source": [
    "# Clustering"
   ]
  },
  {
   "cell_type": "code",
   "execution_count": null,
   "metadata": {},
   "outputs": [],
   "source": [
    "import sklearn.cluster as cluster\n",
    "from sklearn.cluster import KMeans"
   ]
  },
  {
   "cell_type": "code",
   "execution_count": null,
   "metadata": {},
   "outputs": [],
   "source": [
    "km = KMeans(n_clusters = 2)\n",
    "clusters = km.fit(reduced_features)"
   ]
  },
  {
   "cell_type": "code",
   "execution_count": null,
   "metadata": {},
   "outputs": [],
   "source": [
    "clusters"
   ]
  },
  {
   "cell_type": "code",
   "execution_count": null,
   "metadata": {},
   "outputs": [],
   "source": [
    "plt.scatter(reduced_features[:, 0], reduced_features[:, 1], label='Datapoints')\n",
    "plt.scatter(clusters.cluster_centers_[:, 0], clusters.cluster_centers_[:, 1], label='Clusters')\n",
    "plt.title(\"Sklearn version of KMeans\")\n",
    "plt.legend()\n",
    "plt.show()"
   ]
  },
  {
   "cell_type": "code",
   "execution_count": null,
   "metadata": {},
   "outputs": [],
   "source": [
    "reduced_features.shape"
   ]
  },
  {
   "cell_type": "code",
   "execution_count": null,
   "metadata": {},
   "outputs": [],
   "source": [
    "clusters.cluster_centers_"
   ]
  },
  {
   "cell_type": "code",
   "execution_count": null,
   "metadata": {},
   "outputs": [],
   "source": []
  },
  {
   "cell_type": "code",
   "execution_count": null,
   "metadata": {},
   "outputs": [],
   "source": []
  }
 ],
 "metadata": {
  "kernelspec": {
   "display_name": "Python 3",
   "language": "python",
   "name": "python3"
  },
  "language_info": {
   "codemirror_mode": {
    "name": "ipython",
    "version": 3
   },
   "file_extension": ".py",
   "mimetype": "text/x-python",
   "name": "python",
   "nbconvert_exporter": "python",
   "pygments_lexer": "ipython3",
   "version": "3.7.6"
  }
 },
 "nbformat": 4,
 "nbformat_minor": 4
}
